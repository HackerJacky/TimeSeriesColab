{
  "nbformat": 4,
  "nbformat_minor": 0,
  "metadata": {
    "colab": {
      "provenance": [],
      "authorship_tag": "ABX9TyN/wWhPaBXTPDPsawU1MiCK",
      "include_colab_link": true
    },
    "kernelspec": {
      "name": "python3",
      "display_name": "Python 3"
    },
    "language_info": {
      "name": "python"
    }
  },
  "cells": [
    {
      "cell_type": "markdown",
      "metadata": {
        "id": "view-in-github",
        "colab_type": "text"
      },
      "source": [
        "<a href=\"https://colab.research.google.com/github/HackerJacky/TimeSeriesColab/blob/main/HW02.ipynb\" target=\"_parent\"><img src=\"https://colab.research.google.com/assets/colab-badge.svg\" alt=\"Open In Colab\"/></a>"
      ]
    },
    {
      "cell_type": "code",
      "execution_count": 38,
      "metadata": {
        "id": "q1Zczxz8MkoS"
      },
      "outputs": [],
      "source": [
        "import numpy as np\n",
        "import pandas as pd\n",
        "import matplotlib.pyplot as plt\n",
        "import yfinance as yf\n",
        "import statsmodels.api as sm\n",
        "from statsmodels.tsa.ar_model import AutoReg"
      ]
    },
    {
      "cell_type": "code",
      "source": [
        "#第一題a\n",
        "B_0=0\n",
        "B_1=0.1\n",
        "x=[100]*100\n",
        "for i in range(1,100):\n",
        "  x[i]=B_0+B_1*x[i-1]+np.random.randn()\n",
        "\n",
        "#模擬AR(1)\n",
        "model = AutoReg(x, lags=1)\n",
        "AR_1_Model = model.fit()\n",
        "print(AR_1_Model.summary())\n"
      ],
      "metadata": {
        "colab": {
          "base_uri": "https://localhost:8080/"
        },
        "id": "8RVJ3zJ1NvAa",
        "outputId": "57372f20-3fb4-4483-f68f-2bd1d370f06e"
      },
      "execution_count": 64,
      "outputs": [
        {
          "output_type": "stream",
          "name": "stdout",
          "text": [
            "                            AutoReg Model Results                             \n",
            "==============================================================================\n",
            "Dep. Variable:                      y   No. Observations:                  100\n",
            "Model:                     AutoReg(1)   Log Likelihood                -136.928\n",
            "Method:               Conditional MLE   S.D. of innovations              0.965\n",
            "Date:                Fri, 21 Mar 2025   AIC                            279.856\n",
            "Time:                        10:27:21   BIC                            287.641\n",
            "Sample:                             1   HQIC                           283.006\n",
            "                                  100                                         \n",
            "==============================================================================\n",
            "                 coef    std err          z      P>|z|      [0.025      0.975]\n",
            "------------------------------------------------------------------------------\n",
            "const          0.1404      0.098      1.437      0.151      -0.051       0.332\n",
            "y.L1           0.0947      0.010      9.832      0.000       0.076       0.114\n",
            "                                    Roots                                    \n",
            "=============================================================================\n",
            "                  Real          Imaginary           Modulus         Frequency\n",
            "-----------------------------------------------------------------------------\n",
            "AR.1           10.5559           +0.0000j           10.5559            0.0000\n",
            "-----------------------------------------------------------------------------\n"
          ]
        }
      ]
    },
    {
      "cell_type": "code",
      "source": [
        "#第一題b\n",
        "B_0=0\n",
        "B_11=0.1\n",
        "B_21=0.99\n",
        "y = [100] * 100\n",
        "x = [100] * 100\n",
        "for i in range(1,100):\n",
        "  x[i]=B_0 + B_11*x[i-1] + np.random.randn()\n",
        "  y[i]= B_0 + B_21*y[i-1] + np.random.randn()\n",
        "\n",
        "plt.plot(x,'--')\n",
        "plt.plot(y,'-')\n",
        "plt.title('beta=0.99')\n",
        "plt.xlabel('Time')\n",
        "plt.ylabel('Series')"
      ],
      "metadata": {
        "colab": {
          "base_uri": "https://localhost:8080/",
          "height": 490
        },
        "id": "4_g3igeiPaSt",
        "outputId": "63326aa6-4cac-45cf-d541-7da4ca5fb913"
      },
      "execution_count": 65,
      "outputs": [
        {
          "output_type": "execute_result",
          "data": {
            "text/plain": [
              "Text(0, 0.5, 'Series')"
            ]
          },
          "metadata": {},
          "execution_count": 65
        },
        {
          "output_type": "display_data",
          "data": {
            "text/plain": [
              "<Figure size 640x480 with 1 Axes>"
            ],
            "image/png": "[encoded data removed]"
          },
          "metadata": {}
        }
      ]
    },
    {
      "cell_type": "code",
      "source": [
        "#第一題c\n",
        "B_0=0\n",
        "B_1=0.2\n",
        "B_2=0.5\n",
        "y = [100] * 100\n",
        "for i in range(1,100):\n",
        "  y[i]=B_0 + B_1*y[i-1] + B_2*y[i-2] + np.random.randn()\n",
        "#模擬AR(2)\n",
        "model = AutoReg(y, lags=2)\n",
        "AR_2_Model = model.fit()\n",
        "print(AR_2_Model.summary())\n",
        "\n"
      ],
      "metadata": {
        "colab": {
          "base_uri": "https://localhost:8080/"
        },
        "id": "f9BUVOBqK_vJ",
        "outputId": "612a0571-12fc-4531-d82f-d7ac6418c5e2"
      },
      "execution_count": 66,
      "outputs": [
        {
          "output_type": "stream",
          "name": "stdout",
          "text": [
            "                            AutoReg Model Results                             \n",
            "==============================================================================\n",
            "Dep. Variable:                      y   No. Observations:                  100\n",
            "Model:                     AutoReg(2)   Log Likelihood                -122.876\n",
            "Method:               Conditional MLE   S.D. of innovations              0.848\n",
            "Date:                Fri, 21 Mar 2025   AIC                            253.753\n",
            "Time:                        10:27:27   BIC                            264.093\n",
            "Sample:                             2   HQIC                           257.935\n",
            "                                  100                                         \n",
            "==============================================================================\n",
            "                 coef    std err          z      P>|z|      [0.025      0.975]\n",
            "------------------------------------------------------------------------------\n",
            "const         -0.1834      0.089     -2.062      0.039      -0.358      -0.009\n",
            "y.L1           0.1949      0.049      3.942      0.000       0.098       0.292\n",
            "y.L2           0.5014      0.039     12.942      0.000       0.426       0.577\n",
            "                                    Roots                                    \n",
            "=============================================================================\n",
            "                  Real          Imaginary           Modulus         Frequency\n",
            "-----------------------------------------------------------------------------\n",
            "AR.1            1.2312           +0.0000j            1.2312            0.0000\n",
            "AR.2           -1.6198           +0.0000j            1.6198            0.5000\n",
            "-----------------------------------------------------------------------------\n"
          ]
        }
      ]
    },
    {
      "cell_type": "code",
      "source": [
        "#第二題a\n",
        "\n",
        "data = yf.download('TWDUSD=X',start='2023-01-01',end='2025-02-28')\n",
        "data = data[['Close']]\n",
        "data.columns = ['price_twdusd']\n",
        "y = data.price_twdusd\n",
        "x = sm.add_constant(data.price_twdusd.shift(1))\n",
        "res = sm.OLS(y,x,missing='drop').fit()\n",
        "print(res.summary())\n",
        "\n",
        "#p-value=0.08<0.1,所以B_1*顯著\n",
        "\n"
      ],
      "metadata": {
        "colab": {
          "base_uri": "https://localhost:8080/"
        },
        "id": "Gj06Nsw4TZWe",
        "outputId": "f806cd6c-8e2a-4463-b967-48c43e1d7371"
      },
      "execution_count": 67,
      "outputs": [
        {
          "output_type": "stream",
          "name": "stderr",
          "text": [
            "\r[*********************100%***********************]  1 of 1 completed"
          ]
        },
        {
          "output_type": "stream",
          "name": "stdout",
          "text": [
            "                            OLS Regression Results                            \n",
            "==============================================================================\n",
            "Dep. Variable:           price_twdusd   R-squared:                       0.978\n",
            "Model:                            OLS   Adj. R-squared:                  0.978\n",
            "Method:                 Least Squares   F-statistic:                 2.449e+04\n",
            "Date:                Fri, 21 Mar 2025   Prob (F-statistic):               0.00\n",
            "Time:                        10:27:31   Log-Likelihood:                 4274.6\n",
            "No. Observations:                 562   AIC:                            -8545.\n",
            "Df Residuals:                     560   BIC:                            -8536.\n",
            "Df Model:                           1                                         \n",
            "Covariance Type:            nonrobust                                         \n",
            "================================================================================\n",
            "                   coef    std err          t      P>|t|      [0.025      0.975]\n",
            "--------------------------------------------------------------------------------\n",
            "const            0.0004      0.000      1.755      0.080   -4.18e-05       0.001\n",
            "price_twdusd     0.9888      0.006    156.495      0.000       0.976       1.001\n",
            "==============================================================================\n",
            "Omnibus:                       43.001   Durbin-Watson:                   2.410\n",
            "Prob(Omnibus):                  0.000   Jarque-Bera (JB):              171.274\n",
            "Skew:                           0.174   Prob(JB):                     6.43e-38\n",
            "Kurtosis:                       5.682   Cond. No.                     1.24e+03\n",
            "==============================================================================\n",
            "\n",
            "Notes:\n",
            "[1] Standard Errors assume that the covariance matrix of the errors is correctly specified.\n",
            "[2] The condition number is large, 1.24e+03. This might indicate that there are\n",
            "strong multicollinearity or other numerical problems.\n"
          ]
        },
        {
          "output_type": "stream",
          "name": "stderr",
          "text": [
            "\n"
          ]
        }
      ]
    },
    {
      "cell_type": "code",
      "source": [
        "#第二題b\n",
        "#載入S&P500 時間:2023-2025-02-28\n",
        "data = yf.download('^GSPC',start='2023-01-01',end='2025-02-28')\n",
        "data = data[['Close']]\n",
        "\n",
        "#報酬率計算\n",
        "data = (data[['Close']].shift(1)-data[['Close']])/data[['Close']]\n",
        "#欄位命名\n",
        "data.columns = ['return_twdusd']\n",
        "y = data.return_twdusd\n",
        "x = sm.add_constant(data.return_twdusd.shift(1))\n",
        "res = sm.OLS(y,x,missing='drop').fit()\n",
        "print(res.summary())\n",
        "\n",
        "#p-value=0.041<0.05,所以B_1**顯著"
      ],
      "metadata": {
        "colab": {
          "base_uri": "https://localhost:8080/"
        },
        "id": "JZ7_tl0MXCpy",
        "outputId": "f476bafb-70c2-4c70-fa74-50a85ff1ffd5"
      },
      "execution_count": 68,
      "outputs": [
        {
          "output_type": "stream",
          "name": "stderr",
          "text": [
            "\r[*********************100%***********************]  1 of 1 completed"
          ]
        },
        {
          "output_type": "stream",
          "name": "stdout",
          "text": [
            "                            OLS Regression Results                            \n",
            "==============================================================================\n",
            "Dep. Variable:          return_twdusd   R-squared:                       0.001\n",
            "Model:                            OLS   Adj. R-squared:                 -0.001\n",
            "Method:                 Least Squares   F-statistic:                    0.5397\n",
            "Date:                Fri, 21 Mar 2025   Prob (F-statistic):              0.463\n",
            "Time:                        10:27:34   Log-Likelihood:                 1826.9\n",
            "No. Observations:                 538   AIC:                            -3650.\n",
            "Df Residuals:                     536   BIC:                            -3641.\n",
            "Df Model:                           1                                         \n",
            "Covariance Type:            nonrobust                                         \n",
            "=================================================================================\n",
            "                    coef    std err          t      P>|t|      [0.025      0.975]\n",
            "---------------------------------------------------------------------------------\n",
            "const            -0.0007      0.000     -2.050      0.041      -0.001   -3.01e-05\n",
            "return_twdusd     0.0318      0.043      0.735      0.463      -0.053       0.117\n",
            "==============================================================================\n",
            "Omnibus:                       14.639   Durbin-Watson:                   1.981\n",
            "Prob(Omnibus):                  0.001   Jarque-Bera (JB):               17.942\n",
            "Skew:                           0.295   Prob(JB):                     0.000127\n",
            "Kurtosis:                       3.672   Cond. No.                         124.\n",
            "==============================================================================\n",
            "\n",
            "Notes:\n",
            "[1] Standard Errors assume that the covariance matrix of the errors is correctly specified.\n"
          ]
        },
        {
          "output_type": "stream",
          "name": "stderr",
          "text": [
            "\n"
          ]
        }
      ]
    },
    {
      "cell_type": "code",
      "source": [
        "data.head()"
      ],
      "metadata": {
        "colab": {
          "base_uri": "https://localhost:8080/",
          "height": 237
        },
        "id": "LTdOeWxr8WlF",
        "outputId": "ab8fb99f-4c4c-4988-d7ad-787358708f31"
      },
      "execution_count": 30,
      "outputs": [
        {
          "output_type": "execute_result",
          "data": {
            "text/plain": [
              "            return_twdusd\n",
              "Date                     \n",
              "2023-01-03            NaN\n",
              "2023-01-04      -0.007483\n",
              "2023-01-05       0.011783\n",
              "2023-01-06      -0.022331\n",
              "2023-01-09       0.000768"
            ],
            "text/html": [
              "\n",
              "  <div id=\"df-0823b5b2-19bb-4b32-90a7-f4358cb3ad65\" class=\"colab-df-container\">\n",
              "    <div>\n",
              "<style scoped>\n",
              "    .dataframe tbody tr th:only-of-type {\n",
              "        vertical-align: middle;\n",
              "    }\n",
              "\n",
              "    .dataframe tbody tr th {\n",
              "        vertical-align: top;\n",
              "    }\n",
              "\n",
              "    .dataframe thead th {\n",
              "        text-align: right;\n",
              "    }\n",
              "</style>\n",
              "<table border=\"1\" class=\"dataframe\">\n",
              "  <thead>\n",
              "    <tr style=\"text-align: right;\">\n",
              "      <th></th>\n",
              "      <th>return_twdusd</th>\n",
              "    </tr>\n",
              "    <tr>\n",
              "      <th>Date</th>\n",
              "      <th></th>\n",
              "    </tr>\n",
              "  </thead>\n",
              "  <tbody>\n",
              "    <tr>\n",
              "      <th>2023-01-03</th>\n",
              "      <td>NaN</td>\n",
              "    </tr>\n",
              "    <tr>\n",
              "      <th>2023-01-04</th>\n",
              "      <td>-0.007483</td>\n",
              "    </tr>\n",
              "    <tr>\n",
              "      <th>2023-01-05</th>\n",
              "      <td>0.011783</td>\n",
              "    </tr>\n",
              "    <tr>\n",
              "      <th>2023-01-06</th>\n",
              "      <td>-0.022331</td>\n",
              "    </tr>\n",
              "    <tr>\n",
              "      <th>2023-01-09</th>\n",
              "      <td>0.000768</td>\n",
              "    </tr>\n",
              "  </tbody>\n",
              "</table>\n",
              "</div>\n",
              "    <div class=\"colab-df-buttons\">\n",
              "\n",
              "  <div class=\"colab-df-container\">\n",
              "    <button class=\"colab-df-convert\" onclick=\"convertToInteractive('df-0823b5b2-19bb-4b32-90a7-f4358cb3ad65')\"\n",
              "            title=\"Convert this dataframe to an interactive table.\"\n",
              "            style=\"display:none;\">\n",
              "\n",
              "  <svg xmlns=\"http://www.w3.org/2000/svg\" height=\"24px\" viewBox=\"0 -960 960 960\">\n",
              "    <path d=\"M120-120v-720h720v720H120Zm60-500h600v-160H180v160Zm220 220h160v-160H400v160Zm0 220h160v-160H400v160ZM180-400h160v-160H180v160Zm440 0h160v-160H620v160ZM180-180h160v-160H180v160Zm440 0h160v-160H620v160Z\"/>\n",
              "  </svg>\n",
              "    </button>\n",
              "\n",
              "  <style>\n",
              "    .colab-df-container {\n",
              "      display:flex;\n",
              "      gap: 12px;\n",
              "    }\n",
              "\n",
              "    .colab-df-convert {\n",
              "      background-color: #E8F0FE;\n",
              "      border: none;\n",
              "      border-radius: 50%;\n",
              "      cursor: pointer;\n",
              "      display: none;\n",
              "      fill: #1967D2;\n",
              "      height: 32px;\n",
              "      padding: 0 0 0 0;\n",
              "      width: 32px;\n",
              "    }\n",
              "\n",
              "    .colab-df-convert:hover {\n",
              "      background-color: #E2EBFA;\n",
              "      box-shadow: 0px 1px 2px rgba(60, 64, 67, 0.3), 0px 1px 3px 1px rgba(60, 64, 67, 0.15);\n",
              "      fill: #174EA6;\n",
              "    }\n",
              "\n",
              "    .colab-df-buttons div {\n",
              "      margin-bottom: 4px;\n",
              "    }\n",
              "\n",
              "    [theme=dark] .colab-df-convert {\n",
              "      background-color: #3B4455;\n",
              "      fill: #D2E3FC;\n",
              "    }\n",
              "\n",
              "    [theme=dark] .colab-df-convert:hover {\n",
              "      background-color: #434B5C;\n",
              "      box-shadow: 0px 1px 3px 1px rgba(0, 0, 0, 0.15);\n",
              "      filter: drop-shadow(0px 1px 2px rgba(0, 0, 0, 0.3));\n",
              "      fill: #FFFFFF;\n",
              "    }\n",
              "  </style>\n",
              "\n",
              "    <script>\n",
              "      const buttonEl =\n",
              "        document.querySelector('#df-0823b5b2-19bb-4b32-90a7-f4358cb3ad65 button.colab-df-convert');\n",
              "      buttonEl.style.display =\n",
              "        google.colab.kernel.accessAllowed ? 'block' : 'none';\n",
              "\n",
              "      async function convertToInteractive(key) {\n",
              "        const element = document.querySelector('#df-0823b5b2-19bb-4b32-90a7-f4358cb3ad65');\n",
              "        const dataTable =\n",
              "          await google.colab.kernel.invokeFunction('convertToInteractive',\n",
              "                                                    [key], {});\n",
              "        if (!dataTable) return;\n",
              "\n",
              "        const docLinkHtml = 'Like what you see? Visit the ' +\n",
              "          '<a target=\"_blank\" href=https://colab.research.google.com/notebooks/data_table.ipynb>data table notebook</a>'\n",
              "          + ' to learn more about interactive tables.';\n",
              "        element.innerHTML = '';\n",
              "        dataTable['output_type'] = 'display_data';\n",
              "        await google.colab.output.renderOutput(dataTable, element);\n",
              "        const docLink = document.createElement('div');\n",
              "        docLink.innerHTML = docLinkHtml;\n",
              "        element.appendChild(docLink);\n",
              "      }\n",
              "    </script>\n",
              "  </div>\n",
              "\n",
              "\n",
              "<div id=\"df-3fb6785a-89c4-46d7-83ec-20e8043461ea\">\n",
              "  <button class=\"colab-df-quickchart\" onclick=\"quickchart('df-3fb6785a-89c4-46d7-83ec-20e8043461ea')\"\n",
              "            title=\"Suggest charts\"\n",
              "            style=\"display:none;\">\n",
              "\n",
              "<svg xmlns=\"http://www.w3.org/2000/svg\" height=\"24px\"viewBox=\"0 0 24 24\"\n",
              "     width=\"24px\">\n",
              "    <g>\n",
              "        <path d=\"M19 3H5c-1.1 0-2 .9-2 2v14c0 1.1.9 2 2 2h14c1.1 0 2-.9 2-2V5c0-1.1-.9-2-2-2zM9 17H7v-7h2v7zm4 0h-2V7h2v10zm4 0h-2v-4h2v4z\"/>\n",
              "    </g>\n",
              "</svg>\n",
              "  </button>\n",
              "\n",
              "<style>\n",
              "  .colab-df-quickchart {\n",
              "      --bg-color: #E8F0FE;\n",
              "      --fill-color: #1967D2;\n",
              "      --hover-bg-color: #E2EBFA;\n",
              "      --hover-fill-color: #174EA6;\n",
              "      --disabled-fill-color: #AAA;\n",
              "      --disabled-bg-color: #DDD;\n",
              "  }\n",
              "\n",
              "  [theme=dark] .colab-df-quickchart {\n",
              "      --bg-color: #3B4455;\n",
              "      --fill-color: #D2E3FC;\n",
              "      --hover-bg-color: #434B5C;\n",
              "      --hover-fill-color: #FFFFFF;\n",
              "      --disabled-bg-color: #3B4455;\n",
              "      --disabled-fill-color: #666;\n",
              "  }\n",
              "\n",
              "  .colab-df-quickchart {\n",
              "    background-color: var(--bg-color);\n",
              "    border: none;\n",
              "    border-radius: 50%;\n",
              "    cursor: pointer;\n",
              "    display: none;\n",
              "    fill: var(--fill-color);\n",
              "    height: 32px;\n",
              "    padding: 0;\n",
              "    width: 32px;\n",
              "  }\n",
              "\n",
              "  .colab-df-quickchart:hover {\n",
              "    background-color: var(--hover-bg-color);\n",
              "    box-shadow: 0 1px 2px rgba(60, 64, 67, 0.3), 0 1px 3px 1px rgba(60, 64, 67, 0.15);\n",
              "    fill: var(--button-hover-fill-color);\n",
              "  }\n",
              "\n",
              "  .colab-df-quickchart-complete:disabled,\n",
              "  .colab-df-quickchart-complete:disabled:hover {\n",
              "    background-color: var(--disabled-bg-color);\n",
              "    fill: var(--disabled-fill-color);\n",
              "    box-shadow: none;\n",
              "  }\n",
              "\n",
              "  .colab-df-spinner {\n",
              "    border: 2px solid var(--fill-color);\n",
              "    border-color: transparent;\n",
              "    border-bottom-color: var(--fill-color);\n",
              "    animation:\n",
              "      spin 1s steps(1) infinite;\n",
              "  }\n",
              "\n",
              "  @keyframes spin {\n",
              "    0% {\n",
              "      border-color: transparent;\n",
              "      border-bottom-color: var(--fill-color);\n",
              "      border-left-color: var(--fill-color);\n",
              "    }\n",
              "    20% {\n",
              "      border-color: transparent;\n",
              "      border-left-color: var(--fill-color);\n",
              "      border-top-color: var(--fill-color);\n",
              "    }\n",
              "    30% {\n",
              "      border-color: transparent;\n",
              "      border-left-color: var(--fill-color);\n",
              "      border-top-color: var(--fill-color);\n",
              "      border-right-color: var(--fill-color);\n",
              "    }\n",
              "    40% {\n",
              "      border-color: transparent;\n",
              "      border-right-color: var(--fill-color);\n",
              "      border-top-color: var(--fill-color);\n",
              "    }\n",
              "    60% {\n",
              "      border-color: transparent;\n",
              "      border-right-color: var(--fill-color);\n",
              "    }\n",
              "    80% {\n",
              "      border-color: transparent;\n",
              "      border-right-color: var(--fill-color);\n",
              "      border-bottom-color: var(--fill-color);\n",
              "    }\n",
              "    90% {\n",
              "      border-color: transparent;\n",
              "      border-bottom-color: var(--fill-color);\n",
              "    }\n",
              "  }\n",
              "</style>\n",
              "\n",
              "  <script>\n",
              "    async function quickchart(key) {\n",
              "      const quickchartButtonEl =\n",
              "        document.querySelector('#' + key + ' button');\n",
              "      quickchartButtonEl.disabled = true;  // To prevent multiple clicks.\n",
              "      quickchartButtonEl.classList.add('colab-df-spinner');\n",
              "      try {\n",
              "        const charts = await google.colab.kernel.invokeFunction(\n",
              "            'suggestCharts', [key], {});\n",
              "      } catch (error) {\n",
              "        console.error('Error during call to suggestCharts:', error);\n",
              "      }\n",
              "      quickchartButtonEl.classList.remove('colab-df-spinner');\n",
              "      quickchartButtonEl.classList.add('colab-df-quickchart-complete');\n",
              "    }\n",
              "    (() => {\n",
              "      let quickchartButtonEl =\n",
              "        document.querySelector('#df-3fb6785a-89c4-46d7-83ec-20e8043461ea button');\n",
              "      quickchartButtonEl.style.display =\n",
              "        google.colab.kernel.accessAllowed ? 'block' : 'none';\n",
              "    })();\n",
              "  </script>\n",
              "</div>\n",
              "\n",
              "    </div>\n",
              "  </div>\n"
            ],
            "application/vnd.google.colaboratory.intrinsic+json": {
              "type": "dataframe",
              "variable_name": "data",
              "summary": "{\n  \"name\": \"data\",\n  \"rows\": 540,\n  \"fields\": [\n    {\n      \"column\": \"Date\",\n      \"properties\": {\n        \"dtype\": \"date\",\n        \"min\": \"2023-01-03 00:00:00\",\n        \"max\": \"2025-02-27 00:00:00\",\n        \"num_unique_values\": 540,\n        \"samples\": [\n          \"2023-11-30 00:00:00\",\n          \"2023-04-19 00:00:00\",\n          \"2025-01-31 00:00:00\"\n        ],\n        \"semantic_type\": \"\",\n        \"description\": \"\"\n      }\n    },\n    {\n      \"column\": \"return_twdusd\",\n      \"properties\": {\n        \"dtype\": \"number\",\n        \"std\": 0.008119625702723062,\n        \"min\": -0.024671830932791246,\n        \"max\": 0.03089467466495644,\n        \"num_unique_values\": 539,\n        \"samples\": [\n          0.0029726940321838364,\n          0.005988193161113811,\n          -0.0069523687584032755\n        ],\n        \"semantic_type\": \"\",\n        \"description\": \"\"\n      }\n    }\n  ]\n}"
            }
          },
          "metadata": {},
          "execution_count": 30
        }
      ]
    },
    {
      "cell_type": "code",
      "source": [
        "data.info()"
      ],
      "metadata": {
        "colab": {
          "base_uri": "https://localhost:8080/"
        },
        "id": "9o0SR0FyZcnl",
        "outputId": "13206c6b-12ba-4702-da02-bf9cc36774bf"
      },
      "execution_count": 31,
      "outputs": [
        {
          "output_type": "stream",
          "name": "stdout",
          "text": [
            "<class 'pandas.core.frame.DataFrame'>\n",
            "DatetimeIndex: 540 entries, 2023-01-03 to 2025-02-27\n",
            "Data columns (total 1 columns):\n",
            " #   Column         Non-Null Count  Dtype  \n",
            "---  ------         --------------  -----  \n",
            " 0   return_twdusd  539 non-null    float64\n",
            "dtypes: float64(1)\n",
            "memory usage: 8.4 KB\n"
          ]
        }
      ]
    },
    {
      "cell_type": "code",
      "source": [
        "#第二題c\n",
        "data = yf.download('BTC-USD',start='2023-01-01',end='2025-02-28')\n",
        "data = data[['Close']]\n",
        "data = (data[['Close']].shift(1)-data[['Close']])/data[['Close']]\n",
        "data.columns = ['return_bitusd']\n",
        "y = data.return_bitusd\n",
        "x = sm.add_constant(data.return_bitusd.shift(1))\n",
        "res = sm.OLS(y,x,missing='drop').fit()\n",
        "print(res.summary())\n",
        "\n",
        "#p-value=0.08<0.1,所以B_1**顯著"
      ],
      "metadata": {
        "colab": {
          "base_uri": "https://localhost:8080/"
        },
        "id": "pUoZBgfkHgnz",
        "outputId": "696b78b6-a7c4-4981-c8e8-2c7c324d64f5"
      },
      "execution_count": 69,
      "outputs": [
        {
          "output_type": "stream",
          "name": "stderr",
          "text": [
            "\r[*********************100%***********************]  1 of 1 completed"
          ]
        },
        {
          "output_type": "stream",
          "name": "stdout",
          "text": [
            "                            OLS Regression Results                            \n",
            "==============================================================================\n",
            "Dep. Variable:          return_bitusd   R-squared:                       0.001\n",
            "Model:                            OLS   Adj. R-squared:                 -0.001\n",
            "Method:                 Least Squares   F-statistic:                    0.5099\n",
            "Date:                Fri, 21 Mar 2025   Prob (F-statistic):              0.475\n",
            "Time:                        10:27:45   Log-Likelihood:                 1786.9\n",
            "No. Observations:                 787   AIC:                            -3570.\n",
            "Df Residuals:                     785   BIC:                            -3560.\n",
            "Df Model:                           1                                         \n",
            "Covariance Type:            nonrobust                                         \n",
            "=================================================================================\n",
            "                    coef    std err          t      P>|t|      [0.025      0.975]\n",
            "---------------------------------------------------------------------------------\n",
            "const            -0.0018      0.001     -2.004      0.045      -0.004   -3.68e-05\n",
            "return_bitusd    -0.0255      0.036     -0.714      0.475      -0.096       0.045\n",
            "==============================================================================\n",
            "Omnibus:                       52.737   Durbin-Watson:                   1.997\n",
            "Prob(Omnibus):                  0.000   Jarque-Bera (JB):              153.658\n",
            "Skew:                          -0.293   Prob(JB):                     4.30e-34\n",
            "Kurtosis:                       5.084   Cond. No.                         40.0\n",
            "==============================================================================\n",
            "\n",
            "Notes:\n",
            "[1] Standard Errors assume that the covariance matrix of the errors is correctly specified.\n"
          ]
        },
        {
          "output_type": "stream",
          "name": "stderr",
          "text": [
            "\n"
          ]
        }
      ]
    }
  ]
}