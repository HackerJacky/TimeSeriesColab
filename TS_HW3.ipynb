{
  "nbformat": 4,
  "nbformat_minor": 0,
  "metadata": {
    "colab": {
      "provenance": [],
      "authorship_tag": "ABX9TyMN88ejnHRi2E607jKWEi9r",
      "include_colab_link": true
    },
    "kernelspec": {
      "name": "python3",
      "display_name": "Python 3"
    },
    "language_info": {
      "name": "python"
    }
  },
  "cells": [
    {
      "cell_type": "markdown",
      "metadata": {
        "id": "view-in-github",
        "colab_type": "text"
      },
      "source": [
        "<a href=\"https://colab.research.google.com/github/HackerJacky/TimeSeriesColab/blob/main/TS_HW3.ipynb\" target=\"_parent\"><img src=\"https://colab.research.google.com/assets/colab-badge.svg\" alt=\"Open In Colab\"/></a>"
      ]
    },
    {
      "cell_type": "markdown",
      "source": [
        "###時間序列第三次作業\n",
        "1. 使⽤yfinance套件下載S&P500(^gspc)，台灣0050ETF(0050.tw)，比特幣(btc-usd)，黃⾦近⽉期貨價格\n",
        "(gc=f)，美債三個⽉到期殖利率(^IRX)的歷史價格資料，樣本期間設定2021-01-01到2025-04-22\n",
        "2. 計算每個資產的序列報酬率（使⽤對數報酬率）的平均，標準差（波動率），偏態，前1%與後1%的分位數。\n",
        "3. 對上述序列報酬率進⾏平穩性檢定(ADF test)。\n",
        "4. 為每個資產分別估計AR(1),AR(2),AR(3),ARMA(1,1)模型並判斷哪個模型比較好。"
      ],
      "metadata": {
        "id": "-hCmLZVFU-xv"
      }
    },
    {
      "cell_type": "code",
      "execution_count": null,
      "metadata": {
        "id": "NfIrcQMQZn71"
      },
      "outputs": [],
      "source": [
        "import yfinance as yf\n",
        "import numpy as np\n",
        "import matplotlib.pyplot as plt\n",
        "from statsmodels.tsa.ar_model import AutoReg\n",
        "import statsmodels.tsa.stattools as ts\n",
        "from statsmodels.tsa.arima.model import ARIMA\n",
        "import pandas as pd\n",
        "from scipy.stats import skew"
      ]
    },
    {
      "cell_type": "code",
      "source": [
        "#1載入資料\n",
        "sp500=yf.download('^gspc',start='2021-01-01',end='2025-04-22')\n",
        "TW_0050=yf.download('0050.TW',start='2021-01-01',end='2025-04-22')\n",
        "btc=yf.download('btc-usd',start='2021-01-01',end='2025-04-22')\n",
        "gold=yf.download('gc=f',start='2021-01-01',end='2025-04-22')\n",
        "bonds=yf.download('^IRX',start='2021-01-01',end='2025-04-22')"
      ],
      "metadata": {
        "colab": {
          "base_uri": "https://localhost:8080/"
        },
        "id": "1bQO1w1FagLh",
        "outputId": "8b18c720-b1f4-44ba-eed3-644991f13b08"
      },
      "execution_count": null,
      "outputs": [
        {
          "output_type": "stream",
          "name": "stderr",
          "text": [
            "[*********************100%***********************]  1 of 1 completed\n",
            "[*********************100%***********************]  1 of 1 completed\n",
            "[*********************100%***********************]  1 of 1 completed\n",
            "[*********************100%***********************]  1 of 1 completed\n",
            "[*********************100%***********************]  1 of 1 completed\n"
          ]
        }
      ]
    },
    {
      "cell_type": "code",
      "source": [
        "#2\n",
        "data_sp=sp500['Close']\n",
        "data_tw=TW_0050['Close']\n",
        "data_btc=btc['Close']\n",
        "data_gold=gold['Close']\n",
        "data_bonds=bonds['Close']\n",
        "ret_sp=np.log(data_sp/data_sp.shift()).dropna()\n",
        "ret_tw=np.log(data_tw/data_tw.shift()).dropna()\n",
        "ret_btc=np.log(data_btc/data_btc.shift()).dropna()\n",
        "ret_gold=np.log(data_gold/data_gold.shift()).dropna()\n",
        "ret_bonds=np.log(data_bonds/data_bonds.shift()).dropna()\n",
        "#平均數\n",
        "print(\"S&P500\",ret_sp.mean())\n",
        "print(\"台灣0050ETF\",ret_tw.mean())\n",
        "print(\"比特幣\",ret_btc.mean())\n",
        "print(\"黃金\",ret_gold.mean())\n",
        "print(\"債券\",ret_bonds.mean())"
      ],
      "metadata": {
        "colab": {
          "base_uri": "https://localhost:8080/"
        },
        "id": "4WPMGbSIfANu",
        "outputId": "a190ab7f-7256-44ec-bccd-c2886cac74dd"
      },
      "execution_count": null,
      "outputs": [
        {
          "output_type": "stream",
          "name": "stdout",
          "text": [
            "S&P500 Ticker\n",
            "^GSPC    0.000308\n",
            "dtype: float64\n",
            "台灣0050ETF Ticker\n",
            "0050.TW    0.000356\n",
            "dtype: float64\n",
            "比特幣 Ticker\n",
            "BTC-USD    0.000695\n",
            "dtype: float64\n",
            "黃金 Ticker\n",
            "GC=F    0.000519\n",
            "dtype: float64\n",
            "債券 Ticker\n",
            "^IRX    0.003827\n",
            "dtype: float64\n"
          ]
        }
      ]
    },
    {
      "cell_type": "code",
      "source": [
        "#2\n",
        "##標準差(波動率)\n",
        "print(\"S&P500\",ret_sp.std())\n",
        "print(\"台灣0050ETF\",ret_tw.std())\n",
        "print(\"比特幣\",ret_btc.std())\n",
        "print(\"黃金\",ret_gold.std())\n",
        "print(\"債券\",ret_bonds.std())"
      ],
      "metadata": {
        "colab": {
          "base_uri": "https://localhost:8080/"
        },
        "id": "PCVCkLl7Darm",
        "outputId": "9e9bbca8-00ff-41ef-ac1e-4686ced986bd"
      },
      "execution_count": null,
      "outputs": [
        {
          "output_type": "stream",
          "name": "stdout",
          "text": [
            "S&P500 Ticker\n",
            "^GSPC    0.011088\n",
            "dtype: float64\n",
            "台灣0050ETF Ticker\n",
            "0050.TW    0.013712\n",
            "dtype: float64\n",
            "比特幣 Ticker\n",
            "BTC-USD    0.032085\n",
            "dtype: float64\n",
            "黃金 Ticker\n",
            "GC=F    0.009422\n",
            "dtype: float64\n",
            "債券 Ticker\n",
            "^IRX    0.13235\n",
            "dtype: float64\n"
          ]
        }
      ]
    },
    {
      "cell_type": "code",
      "source": [
        "#2\n",
        "##偏態\n",
        "print(\"S&P500\",skew(ret_tw, bias=False))\n",
        "print(\"台灣0050ETF\",skew(ret_tw, bias=False))\n",
        "print(\"比特幣\",skew(ret_btc, bias=False))\n",
        "print(\"黃金\",skew(ret_gold, bias=False))\n",
        "print(\"債券\",skew(ret_bonds, bias=False))"
      ],
      "metadata": {
        "colab": {
          "base_uri": "https://localhost:8080/"
        },
        "id": "oA61gcU7Df-p",
        "outputId": "697f5cf2-321a-4152-b66b-8350200b9bc3"
      },
      "execution_count": null,
      "outputs": [
        {
          "output_type": "stream",
          "name": "stdout",
          "text": [
            "[-0.46359797]\n",
            "[0.01762788]\n",
            "[-0.12952661]\n",
            "[-0.35367128]\n",
            "[0.65724945]\n"
          ]
        }
      ]
    },
    {
      "cell_type": "code",
      "source": [
        "#前後1%分位數\n",
        "print(f\"{'S&P500':<10} 前1%分位數: {ret_sp.quantile(0.01).iloc[0]:>8.4f} 後1%分位數: {ret_sp.quantile(0.99).iloc[0]:>8.4f}\")\n",
        "print(f\"{'台灣0050ETF':<10} 前1%分位數: {ret_tw.quantile(0.01).iloc[0]:>8.4f} 後1%分位數: {ret_tw.quantile(0.99).iloc[0]:>8.4f}\")\n",
        "print(f\"{'比特幣':<10} 前1%分位數: {ret_btc.quantile(0.01).iloc[0]:>8.4f} 後1%分位數: {ret_btc.quantile(0.99).iloc[0]:>8.4f}\")\n",
        "print(f\"{'黃金':<10} 前1%分位數: {ret_gold.quantile(0.01).iloc[0]:>8.4f} 後1%分位數: {ret_gold.quantile(0.99).iloc[0]:>8.4f}\")\n",
        "print(f\"{'債券':<10} 前1%分位數: {ret_bonds.quantile(0.01).iloc[0]:>8.4f} 後1%分位數: {ret_bonds.quantile(0.99).iloc[0]:>8.4f}\")\n",
        "\n"
      ],
      "metadata": {
        "colab": {
          "base_uri": "https://localhost:8080/"
        },
        "id": "GGQ_KqBRoHqz",
        "outputId": "602926a1-6d1c-479d-c64b-e9b5dc0390dd"
      },
      "execution_count": 15,
      "outputs": [
        {
          "output_type": "stream",
          "name": "stdout",
          "text": [
            "S&P500     前1%分位數:  -0.0309 後1%分位數:   0.0254\n",
            "台灣0050ETF  前1%分位數:  -0.0371 後1%分位數:   0.0352\n",
            "比特幣        前1%分位數:  -0.0910 後1%分位數:   0.0944\n",
            "黃金         前1%分位數:  -0.0259 後1%分位數:   0.0234\n",
            "債券         前1%分位數:  -0.5108 後1%分位數:   0.5031\n"
          ]
        }
      ]
    },
    {
      "cell_type": "code",
      "source": [
        "#3 ADF test\n",
        "res_SP = ts.adfuller(ret_sp,1)\n",
        "res_TW = ts.adfuller(ret_tw,1)\n",
        "res_BTC = ts.adfuller(ret_btc,1)\n",
        "res_GOLD = ts.adfuller(ret_gold,1)\n",
        "res_BONDS = ts.adfuller(ret_bonds,1)"
      ],
      "metadata": {
        "id": "TffqcSBPp2zH"
      },
      "execution_count": 16,
      "outputs": []
    },
    {
      "cell_type": "code",
      "source": [
        "#4\n",
        "##S&P500\n",
        "reg_sp_1=AutoReg(ret_sp,lags=1).fit() #AR(1)\n",
        "print(reg_sp_1.summary())\n",
        "\n",
        "#AR(1) AIC=-6635.494  BIC=-6620.549\n",
        "#AR(2)  AIC= -6626.696 BIC=-6606.772\n",
        "#AR(3)  AIC=-6623.415  BIC=-6598.514\n",
        "#ARMA(1,1)  AIC= -6639.907 BIC=-6619.975"
      ],
      "metadata": {
        "colab": {
          "base_uri": "https://localhost:8080/"
        },
        "id": "eRqGkDw7p38U",
        "outputId": "c09d0445-71c3-46c7-f96b-4fe688fb9a92"
      },
      "execution_count": 17,
      "outputs": [
        {
          "output_type": "stream",
          "name": "stdout",
          "text": [
            "                            AutoReg Model Results                             \n",
            "==============================================================================\n",
            "Dep. Variable:                  ^GSPC   No. Observations:                 1078\n",
            "Model:                     AutoReg(1)   Log Likelihood                3320.747\n",
            "Method:               Conditional MLE   S.D. of innovations              0.011\n",
            "Date:                Sat, 26 Apr 2025   AIC                          -6635.494\n",
            "Time:                        10:47:55   BIC                          -6620.549\n",
            "Sample:                             1   HQIC                         -6629.834\n",
            "                                 1078                                         \n",
            "==============================================================================\n",
            "                 coef    std err          z      P>|z|      [0.025      0.975]\n",
            "------------------------------------------------------------------------------\n",
            "const          0.0003      0.000      0.912      0.362      -0.000       0.001\n",
            "^GSPC.L1      -0.0189      0.031     -0.619      0.536      -0.079       0.041\n",
            "                                    Roots                                    \n",
            "=============================================================================\n",
            "                  Real          Imaginary           Modulus         Frequency\n",
            "-----------------------------------------------------------------------------\n",
            "AR.1          -52.9241           +0.0000j           52.9241            0.5000\n",
            "-----------------------------------------------------------------------------\n"
          ]
        },
        {
          "output_type": "stream",
          "name": "stderr",
          "text": [
            "/usr/local/lib/python3.11/dist-packages/statsmodels/tsa/base/tsa_model.py:473: ValueWarning: A date index has been provided, but it has no associated frequency information and so will be ignored when e.g. forecasting.\n",
            "  self._init_dates(dates, freq)\n"
          ]
        }
      ]
    },
    {
      "cell_type": "code",
      "source": [
        "reg_sp_2=AutoReg(ret_sp,lags=2).fit() #AR(2)\n",
        "print(reg_sp_2.summary())"
      ],
      "metadata": {
        "colab": {
          "base_uri": "https://localhost:8080/"
        },
        "id": "FXt5kDI7IIzq",
        "outputId": "2c7de115-da0c-46cb-8da4-044efce70bb3"
      },
      "execution_count": 18,
      "outputs": [
        {
          "output_type": "stream",
          "name": "stdout",
          "text": [
            "                            AutoReg Model Results                             \n",
            "==============================================================================\n",
            "Dep. Variable:                  ^GSPC   No. Observations:                 1078\n",
            "Model:                     AutoReg(2)   Log Likelihood                3317.348\n",
            "Method:               Conditional MLE   S.D. of innovations              0.011\n",
            "Date:                Sat, 26 Apr 2025   AIC                          -6626.696\n",
            "Time:                        10:47:57   BIC                          -6606.772\n",
            "Sample:                             2   HQIC                         -6619.150\n",
            "                                 1078                                         \n",
            "==============================================================================\n",
            "                 coef    std err          z      P>|z|      [0.025      0.975]\n",
            "------------------------------------------------------------------------------\n",
            "const          0.0003      0.000      0.906      0.365      -0.000       0.001\n",
            "^GSPC.L1      -0.0194      0.031     -0.634      0.526      -0.079       0.040\n",
            "^GSPC.L2      -0.0106      0.031     -0.346      0.730      -0.070       0.049\n",
            "                                    Roots                                    \n",
            "=============================================================================\n",
            "                  Real          Imaginary           Modulus         Frequency\n",
            "-----------------------------------------------------------------------------\n",
            "AR.1           -0.9178           -9.6901j            9.7335           -0.2650\n",
            "AR.2           -0.9178           +9.6901j            9.7335            0.2650\n",
            "-----------------------------------------------------------------------------\n"
          ]
        },
        {
          "output_type": "stream",
          "name": "stderr",
          "text": [
            "/usr/local/lib/python3.11/dist-packages/statsmodels/tsa/base/tsa_model.py:473: ValueWarning: A date index has been provided, but it has no associated frequency information and so will be ignored when e.g. forecasting.\n",
            "  self._init_dates(dates, freq)\n"
          ]
        }
      ]
    },
    {
      "cell_type": "code",
      "source": [
        "reg_sp_3=AutoReg(ret_sp,lags=3).fit() #AR(3)\n",
        "print(reg_sp_3.summary())"
      ],
      "metadata": {
        "colab": {
          "base_uri": "https://localhost:8080/"
        },
        "id": "Lf0yikZcIIsM",
        "outputId": "77892a89-6249-4c49-8dd1-65db920682e6"
      },
      "execution_count": 19,
      "outputs": [
        {
          "output_type": "stream",
          "name": "stdout",
          "text": [
            "                            AutoReg Model Results                             \n",
            "==============================================================================\n",
            "Dep. Variable:                  ^GSPC   No. Observations:                 1078\n",
            "Model:                     AutoReg(3)   Log Likelihood                3316.707\n",
            "Method:               Conditional MLE   S.D. of innovations              0.011\n",
            "Date:                Sat, 26 Apr 2025   AIC                          -6623.415\n",
            "Time:                        10:47:59   BIC                          -6598.514\n",
            "Sample:                             3   HQIC                         -6613.984\n",
            "                                 1078                                         \n",
            "==============================================================================\n",
            "                 coef    std err          z      P>|z|      [0.025      0.975]\n",
            "------------------------------------------------------------------------------\n",
            "const          0.0003      0.000      0.935      0.350      -0.000       0.001\n",
            "^GSPC.L1      -0.0209      0.030     -0.686      0.493      -0.081       0.039\n",
            "^GSPC.L2      -0.0125      0.030     -0.410      0.682      -0.072       0.047\n",
            "^GSPC.L3      -0.0622      0.031     -2.038      0.042      -0.122      -0.002\n",
            "                                    Roots                                    \n",
            "=============================================================================\n",
            "                  Real          Imaginary           Modulus         Frequency\n",
            "-----------------------------------------------------------------------------\n",
            "AR.1            1.1730           -2.2214j            2.5121           -0.1727\n",
            "AR.2            1.1730           +2.2214j            2.5121            0.1727\n",
            "AR.3           -2.5467           -0.0000j            2.5467           -0.5000\n",
            "-----------------------------------------------------------------------------\n"
          ]
        },
        {
          "output_type": "stream",
          "name": "stderr",
          "text": [
            "/usr/local/lib/python3.11/dist-packages/statsmodels/tsa/base/tsa_model.py:473: ValueWarning: A date index has been provided, but it has no associated frequency information and so will be ignored when e.g. forecasting.\n",
            "  self._init_dates(dates, freq)\n"
          ]
        }
      ]
    },
    {
      "cell_type": "code",
      "source": [
        "arma_ret_sp = ARIMA(ret_sp, order=(1, 0, 1)).fit()\n",
        "print(arma_ret_sp.summary())"
      ],
      "metadata": {
        "colab": {
          "base_uri": "https://localhost:8080/"
        },
        "id": "53TtVsqIIIeO",
        "outputId": "9b67cb29-d96c-4110-a727-1a4875588d32"
      },
      "execution_count": 20,
      "outputs": [
        {
          "output_type": "stream",
          "name": "stderr",
          "text": [
            "/usr/local/lib/python3.11/dist-packages/statsmodels/tsa/base/tsa_model.py:473: ValueWarning: A date index has been provided, but it has no associated frequency information and so will be ignored when e.g. forecasting.\n",
            "  self._init_dates(dates, freq)\n",
            "/usr/local/lib/python3.11/dist-packages/statsmodels/tsa/base/tsa_model.py:473: ValueWarning: A date index has been provided, but it has no associated frequency information and so will be ignored when e.g. forecasting.\n",
            "  self._init_dates(dates, freq)\n",
            "/usr/local/lib/python3.11/dist-packages/statsmodels/tsa/base/tsa_model.py:473: ValueWarning: A date index has been provided, but it has no associated frequency information and so will be ignored when e.g. forecasting.\n",
            "  self._init_dates(dates, freq)\n",
            "/usr/local/lib/python3.11/dist-packages/statsmodels/tsa/statespace/sarimax.py:966: UserWarning: Non-stationary starting autoregressive parameters found. Using zeros as starting parameters.\n",
            "  warn('Non-stationary starting autoregressive parameters'\n",
            "/usr/local/lib/python3.11/dist-packages/statsmodels/tsa/statespace/sarimax.py:978: UserWarning: Non-invertible starting MA parameters found. Using zeros as starting parameters.\n",
            "  warn('Non-invertible starting MA parameters found.'\n"
          ]
        },
        {
          "output_type": "stream",
          "name": "stdout",
          "text": [
            "                               SARIMAX Results                                \n",
            "==============================================================================\n",
            "Dep. Variable:                  ^GSPC   No. Observations:                 1078\n",
            "Model:                 ARIMA(1, 0, 1)   Log Likelihood                3323.953\n",
            "Date:                Sat, 26 Apr 2025   AIC                          -6639.907\n",
            "Time:                        10:48:01   BIC                          -6619.975\n",
            "Sample:                             0   HQIC                         -6632.359\n",
            "                               - 1078                                         \n",
            "Covariance Type:                  opg                                         \n",
            "==============================================================================\n",
            "                 coef    std err          z      P>|z|      [0.025      0.975]\n",
            "------------------------------------------------------------------------------\n",
            "const          0.0003      0.000      0.906      0.365      -0.000       0.001\n",
            "ar.L1               0      0.010          0      1.000      -0.019       0.019\n",
            "ma.L1              -0      0.010         -0      1.000      -0.019       0.019\n",
            "sigma2         0.0001   2.63e-06     46.593      0.000       0.000       0.000\n",
            "===================================================================================\n",
            "Ljung-Box (L1) (Q):                   0.38   Jarque-Bera (JB):              1737.79\n",
            "Prob(Q):                              0.54   Prob(JB):                         0.00\n",
            "Heteroskedasticity (H):               0.98   Skew:                             0.02\n",
            "Prob(H) (two-sided):                  0.88   Kurtosis:                         9.22\n",
            "===================================================================================\n",
            "\n",
            "Warnings:\n",
            "[1] Covariance matrix calculated using the outer product of gradients (complex-step).\n",
            "[2] Covariance matrix is singular or near-singular, with condition number 4.07e+16. Standard errors may be unstable.\n"
          ]
        },
        {
          "output_type": "stream",
          "name": "stderr",
          "text": [
            "/usr/local/lib/python3.11/dist-packages/statsmodels/base/model.py:607: ConvergenceWarning: Maximum Likelihood optimization failed to converge. Check mle_retvals\n",
            "  warnings.warn(\"Maximum Likelihood optimization failed to \"\n"
          ]
        }
      ]
    },
    {
      "cell_type": "markdown",
      "source": [
        "![image.png](data:image/png;base64,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)"
      ],
      "metadata": {
        "id": "kKfbxeUdB_xE"
      }
    },
    {
      "cell_type": "markdown",
      "source": [],
      "metadata": {
        "id": "Vze9iqYNEWmj"
      }
    },
    {
      "cell_type": "markdown",
      "source": [],
      "metadata": {
        "id": "7m4y7jvrIaYj"
      }
    },
    {
      "cell_type": "code",
      "source": [
        "#4\n",
        "##台灣0050\n",
        "reg_tw_1=AutoReg(ret_tw,lags=1).fit()\n",
        "print(reg_tw_1.summary())"
      ],
      "metadata": {
        "colab": {
          "base_uri": "https://localhost:8080/"
        },
        "id": "-Pgf-asNA9_n",
        "outputId": "a730eb21-5691-4124-fa08-954c2721770d"
      },
      "execution_count": 27,
      "outputs": [
        {
          "output_type": "stream",
          "name": "stdout",
          "text": [
            "                            AutoReg Model Results                             \n",
            "==============================================================================\n",
            "Dep. Variable:                0050.TW   No. Observations:                 1037\n",
            "Model:                     AutoReg(1)   Log Likelihood                2974.099\n",
            "Method:               Conditional MLE   S.D. of innovations              0.014\n",
            "Date:                Sat, 26 Apr 2025   AIC                          -5942.197\n",
            "Time:                        10:51:53   BIC                          -5927.368\n",
            "Sample:                             1   HQIC                         -5936.571\n",
            "                                 1037                                         \n",
            "==============================================================================\n",
            "                 coef    std err          z      P>|z|      [0.025      0.975]\n",
            "------------------------------------------------------------------------------\n",
            "const          0.0003      0.000      0.816      0.414      -0.000       0.001\n",
            "0050.TW.L1     0.0190      0.031      0.612      0.540      -0.042       0.080\n",
            "                                    Roots                                    \n",
            "=============================================================================\n",
            "                  Real          Imaginary           Modulus         Frequency\n",
            "-----------------------------------------------------------------------------\n",
            "AR.1           52.5510           +0.0000j           52.5510            0.0000\n",
            "-----------------------------------------------------------------------------\n"
          ]
        },
        {
          "output_type": "stream",
          "name": "stderr",
          "text": [
            "/usr/local/lib/python3.11/dist-packages/statsmodels/tsa/base/tsa_model.py:473: ValueWarning: A date index has been provided, but it has no associated frequency information and so will be ignored when e.g. forecasting.\n",
            "  self._init_dates(dates, freq)\n"
          ]
        }
      ]
    },
    {
      "cell_type": "code",
      "source": [
        "##台灣0050 AR(2)\n",
        "reg_tw_2=AutoReg(ret_tw,lags=2).fit()\n",
        "print(reg_tw_2.summary())"
      ],
      "metadata": {
        "colab": {
          "base_uri": "https://localhost:8080/"
        },
        "id": "sHIEcE6Xt2BZ",
        "outputId": "4ff1dfda-c5bb-48ac-83b1-467bc3c1dfc6"
      },
      "execution_count": 28,
      "outputs": [
        {
          "output_type": "stream",
          "name": "stdout",
          "text": [
            "                            AutoReg Model Results                             \n",
            "==============================================================================\n",
            "Dep. Variable:                0050.TW   No. Observations:                 1037\n",
            "Model:                     AutoReg(2)   Log Likelihood                2972.305\n",
            "Method:               Conditional MLE   S.D. of innovations              0.014\n",
            "Date:                Sat, 26 Apr 2025   AIC                          -5936.611\n",
            "Time:                        10:51:56   BIC                          -5916.842\n",
            "Sample:                             2   HQIC                         -5929.110\n",
            "                                 1037                                         \n",
            "==============================================================================\n",
            "                 coef    std err          z      P>|z|      [0.025      0.975]\n",
            "------------------------------------------------------------------------------\n",
            "const          0.0004      0.000      0.835      0.403      -0.000       0.001\n",
            "0050.TW.L1     0.0199      0.031      0.641      0.522      -0.041       0.081\n",
            "0050.TW.L2    -0.0499      0.031     -1.607      0.108      -0.111       0.011\n",
            "                                    Roots                                    \n",
            "=============================================================================\n",
            "                  Real          Imaginary           Modulus         Frequency\n",
            "-----------------------------------------------------------------------------\n",
            "AR.1            0.1993           -4.4716j            4.4760           -0.2429\n",
            "AR.2            0.1993           +4.4716j            4.4760            0.2429\n",
            "-----------------------------------------------------------------------------\n"
          ]
        },
        {
          "output_type": "stream",
          "name": "stderr",
          "text": [
            "/usr/local/lib/python3.11/dist-packages/statsmodels/tsa/base/tsa_model.py:473: ValueWarning: A date index has been provided, but it has no associated frequency information and so will be ignored when e.g. forecasting.\n",
            "  self._init_dates(dates, freq)\n"
          ]
        }
      ]
    },
    {
      "cell_type": "code",
      "source": [
        "reg_tw_3=AutoReg(ret_tw,lags=3).fit()\n",
        "print(reg_tw_3.summary())"
      ],
      "metadata": {
        "colab": {
          "base_uri": "https://localhost:8080/"
        },
        "id": "p9ptwWYguFYo",
        "outputId": "117c3677-daf8-4d3d-ed2f-881d3eb09402"
      },
      "execution_count": 29,
      "outputs": [
        {
          "output_type": "stream",
          "name": "stdout",
          "text": [
            "                            AutoReg Model Results                             \n",
            "==============================================================================\n",
            "Dep. Variable:                0050.TW   No. Observations:                 1037\n",
            "Model:                     AutoReg(3)   Log Likelihood                2971.179\n",
            "Method:               Conditional MLE   S.D. of innovations              0.014\n",
            "Date:                Sat, 26 Apr 2025   AIC                          -5932.358\n",
            "Time:                        10:51:58   BIC                          -5907.652\n",
            "Sample:                             3   HQIC                         -5922.984\n",
            "                                 1037                                         \n",
            "==============================================================================\n",
            "                 coef    std err          z      P>|z|      [0.025      0.975]\n",
            "------------------------------------------------------------------------------\n",
            "const          0.0004      0.000      0.823      0.410      -0.000       0.001\n",
            "0050.TW.L1     0.0166      0.031      0.535      0.593      -0.044       0.077\n",
            "0050.TW.L2    -0.0493      0.031     -1.588      0.112      -0.110       0.012\n",
            "0050.TW.L3    -0.0410      0.031     -1.320      0.187      -0.102       0.020\n",
            "                                    Roots                                    \n",
            "=============================================================================\n",
            "                  Real          Imaginary           Modulus         Frequency\n",
            "-----------------------------------------------------------------------------\n",
            "AR.1            1.1060           -2.4335j            2.6731           -0.1821\n",
            "AR.2            1.1060           +2.4335j            2.6731            0.1821\n",
            "AR.3           -3.4132           -0.0000j            3.4132           -0.5000\n",
            "-----------------------------------------------------------------------------\n"
          ]
        },
        {
          "output_type": "stream",
          "name": "stderr",
          "text": [
            "/usr/local/lib/python3.11/dist-packages/statsmodels/tsa/base/tsa_model.py:473: ValueWarning: A date index has been provided, but it has no associated frequency information and so will be ignored when e.g. forecasting.\n",
            "  self._init_dates(dates, freq)\n"
          ]
        }
      ]
    },
    {
      "cell_type": "code",
      "source": [
        "##台灣0050  ARMA(1,1)\n",
        "arma_ret_tw=ARIMA(ret_tw,order=(1,0,1)).fit()\n",
        "print(arma_ret_tw.summary())"
      ],
      "metadata": {
        "colab": {
          "base_uri": "https://localhost:8080/"
        },
        "id": "S4DgMzHOuNGm",
        "outputId": "93271415-d83f-4d4d-d9a9-4d6f98e91717"
      },
      "execution_count": 30,
      "outputs": [
        {
          "output_type": "stream",
          "name": "stderr",
          "text": [
            "/usr/local/lib/python3.11/dist-packages/statsmodels/tsa/base/tsa_model.py:473: ValueWarning: A date index has been provided, but it has no associated frequency information and so will be ignored when e.g. forecasting.\n",
            "  self._init_dates(dates, freq)\n",
            "/usr/local/lib/python3.11/dist-packages/statsmodels/tsa/base/tsa_model.py:473: ValueWarning: A date index has been provided, but it has no associated frequency information and so will be ignored when e.g. forecasting.\n",
            "  self._init_dates(dates, freq)\n",
            "/usr/local/lib/python3.11/dist-packages/statsmodels/tsa/base/tsa_model.py:473: ValueWarning: A date index has been provided, but it has no associated frequency information and so will be ignored when e.g. forecasting.\n",
            "  self._init_dates(dates, freq)\n"
          ]
        },
        {
          "output_type": "stream",
          "name": "stdout",
          "text": [
            "                               SARIMAX Results                                \n",
            "==============================================================================\n",
            "Dep. Variable:                0050.TW   No. Observations:                 1037\n",
            "Model:                 ARIMA(1, 0, 1)   Log Likelihood                2976.994\n",
            "Date:                Sat, 26 Apr 2025   AIC                          -5945.988\n",
            "Time:                        10:52:01   BIC                          -5926.211\n",
            "Sample:                             0   HQIC                         -5938.485\n",
            "                               - 1037                                         \n",
            "Covariance Type:                  opg                                         \n",
            "==============================================================================\n",
            "                 coef    std err          z      P>|z|      [0.025      0.975]\n",
            "------------------------------------------------------------------------------\n",
            "const          0.0004      0.000      0.739      0.460      -0.001       0.001\n",
            "ar.L1          0.4019      0.876      0.459      0.646      -1.315       2.119\n",
            "ma.L1         -0.3853      0.885     -0.436      0.663      -2.119       1.348\n",
            "sigma2         0.0002    3.8e-06     49.466      0.000       0.000       0.000\n",
            "===================================================================================\n",
            "Ljung-Box (L1) (Q):                   0.01   Jarque-Bera (JB):              3387.18\n",
            "Prob(Q):                              0.91   Prob(JB):                         0.00\n",
            "Heteroskedasticity (H):               2.11   Skew:                            -0.43\n",
            "Prob(H) (two-sided):                  0.00   Kurtosis:                        11.81\n",
            "===================================================================================\n",
            "\n",
            "Warnings:\n",
            "[1] Covariance matrix calculated using the outer product of gradients (complex-step).\n"
          ]
        }
      ]
    },
    {
      "cell_type": "code",
      "source": [
        "#4\n",
        "##比特幣\n",
        "reg_btc_1=AutoReg(ret_btc,lags=1).fit()\n",
        "reg_btc_2=AutoReg(ret_btc,lags=2).fit()\n",
        "reg_btc_3=AutoReg(ret_btc,lags=3).fit()\n",
        "arma_ret_btc=ARIMA(ret_btc,order=(1,0,1)).fit()\n"
      ],
      "metadata": {
        "colab": {
          "base_uri": "https://localhost:8080/"
        },
        "id": "t5cxnMAHBKiV",
        "outputId": "722feddb-3090-4c78-b678-b6cf08a80c6f"
      },
      "execution_count": 23,
      "outputs": [
        {
          "output_type": "stream",
          "name": "stderr",
          "text": [
            "/usr/local/lib/python3.11/dist-packages/statsmodels/tsa/base/tsa_model.py:473: ValueWarning: No frequency information was provided, so inferred frequency D will be used.\n",
            "  self._init_dates(dates, freq)\n",
            "/usr/local/lib/python3.11/dist-packages/statsmodels/tsa/base/tsa_model.py:473: ValueWarning: No frequency information was provided, so inferred frequency D will be used.\n",
            "  self._init_dates(dates, freq)\n",
            "/usr/local/lib/python3.11/dist-packages/statsmodels/tsa/base/tsa_model.py:473: ValueWarning: No frequency information was provided, so inferred frequency D will be used.\n",
            "  self._init_dates(dates, freq)\n",
            "/usr/local/lib/python3.11/dist-packages/statsmodels/tsa/base/tsa_model.py:473: ValueWarning: No frequency information was provided, so inferred frequency D will be used.\n",
            "  self._init_dates(dates, freq)\n",
            "/usr/local/lib/python3.11/dist-packages/statsmodels/tsa/base/tsa_model.py:473: ValueWarning: No frequency information was provided, so inferred frequency D will be used.\n",
            "  self._init_dates(dates, freq)\n",
            "/usr/local/lib/python3.11/dist-packages/statsmodels/tsa/base/tsa_model.py:473: ValueWarning: No frequency information was provided, so inferred frequency D will be used.\n",
            "  self._init_dates(dates, freq)\n"
          ]
        }
      ]
    },
    {
      "cell_type": "code",
      "source": [
        "#4\n",
        "##黃金\n",
        "reg_gold_1=AutoReg(ret_gold,lags=1).fit()\n",
        "reg_gold_2=AutoReg(ret_gold,lags=2).fit()\n",
        "reg_gold_3=AutoReg(ret_gold,lags=3).fit()\n",
        "arma_ret_gold=ARIMA(ret_gold,order=(1,0,1)).fit()"
      ],
      "metadata": {
        "colab": {
          "base_uri": "https://localhost:8080/"
        },
        "id": "-l8eREs9CqGI",
        "outputId": "16589f2f-3d70-4883-f111-14a6969368a5"
      },
      "execution_count": null,
      "outputs": [
        {
          "output_type": "stream",
          "name": "stderr",
          "text": [
            "/usr/local/lib/python3.11/dist-packages/statsmodels/tsa/base/tsa_model.py:473: ValueWarning: A date index has been provided, but it has no associated frequency information and so will be ignored when e.g. forecasting.\n",
            "  self._init_dates(dates, freq)\n",
            "/usr/local/lib/python3.11/dist-packages/statsmodels/tsa/base/tsa_model.py:473: ValueWarning: A date index has been provided, but it has no associated frequency information and so will be ignored when e.g. forecasting.\n",
            "  self._init_dates(dates, freq)\n",
            "/usr/local/lib/python3.11/dist-packages/statsmodels/tsa/base/tsa_model.py:473: ValueWarning: A date index has been provided, but it has no associated frequency information and so will be ignored when e.g. forecasting.\n",
            "  self._init_dates(dates, freq)\n",
            "/usr/local/lib/python3.11/dist-packages/statsmodels/tsa/base/tsa_model.py:473: ValueWarning: A date index has been provided, but it has no associated frequency information and so will be ignored when e.g. forecasting.\n",
            "  self._init_dates(dates, freq)\n",
            "/usr/local/lib/python3.11/dist-packages/statsmodels/tsa/base/tsa_model.py:473: ValueWarning: A date index has been provided, but it has no associated frequency information and so will be ignored when e.g. forecasting.\n",
            "  self._init_dates(dates, freq)\n",
            "/usr/local/lib/python3.11/dist-packages/statsmodels/tsa/base/tsa_model.py:473: ValueWarning: A date index has been provided, but it has no associated frequency information and so will be ignored when e.g. forecasting.\n",
            "  self._init_dates(dates, freq)\n",
            "/usr/local/lib/python3.11/dist-packages/statsmodels/base/model.py:607: ConvergenceWarning: Maximum Likelihood optimization failed to converge. Check mle_retvals\n",
            "  warnings.warn(\"Maximum Likelihood optimization failed to \"\n"
          ]
        }
      ]
    },
    {
      "cell_type": "code",
      "source": [
        "#4\n",
        "##債券\n",
        "reg_bonds_1=AutoReg(ret_bonds,lags=1).fit()\n",
        "reg_bonds_2=AutoReg(ret_bonds,lags=2).fit()\n",
        "reg_bonds_3=AutoReg(ret_bonds,lags=3).fit()\n",
        "arma_ret_bonds=ARIMA(ret_bonds,order=(1,0,1)).fit()"
      ],
      "metadata": {
        "colab": {
          "base_uri": "https://localhost:8080/"
        },
        "id": "ZVOYwfzTC1hA",
        "outputId": "b3bbd445-49e7-4fbc-e55a-0e0ceeb02e25"
      },
      "execution_count": 22,
      "outputs": [
        {
          "output_type": "stream",
          "name": "stderr",
          "text": [
            "/usr/local/lib/python3.11/dist-packages/statsmodels/tsa/base/tsa_model.py:473: ValueWarning: A date index has been provided, but it has no associated frequency information and so will be ignored when e.g. forecasting.\n",
            "  self._init_dates(dates, freq)\n",
            "/usr/local/lib/python3.11/dist-packages/statsmodels/tsa/base/tsa_model.py:473: ValueWarning: A date index has been provided, but it has no associated frequency information and so will be ignored when e.g. forecasting.\n",
            "  self._init_dates(dates, freq)\n",
            "/usr/local/lib/python3.11/dist-packages/statsmodels/tsa/base/tsa_model.py:473: ValueWarning: A date index has been provided, but it has no associated frequency information and so will be ignored when e.g. forecasting.\n",
            "  self._init_dates(dates, freq)\n",
            "/usr/local/lib/python3.11/dist-packages/statsmodels/tsa/base/tsa_model.py:473: ValueWarning: A date index has been provided, but it has no associated frequency information and so will be ignored when e.g. forecasting.\n",
            "  self._init_dates(dates, freq)\n",
            "/usr/local/lib/python3.11/dist-packages/statsmodels/tsa/base/tsa_model.py:473: ValueWarning: A date index has been provided, but it has no associated frequency information and so will be ignored when e.g. forecasting.\n",
            "  self._init_dates(dates, freq)\n",
            "/usr/local/lib/python3.11/dist-packages/statsmodels/tsa/base/tsa_model.py:473: ValueWarning: A date index has been provided, but it has no associated frequency information and so will be ignored when e.g. forecasting.\n",
            "  self._init_dates(dates, freq)\n"
          ]
        }
      ]
    }
  ]
}