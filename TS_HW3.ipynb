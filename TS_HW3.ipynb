{
  "nbformat": 4,
  "nbformat_minor": 0,
  "metadata": {
    "colab": {
      "provenance": [],
      "authorship_tag": "ABX9TyMbxq8oSxGsLsLZT8cyAyTn",
      "include_colab_link": true
    },
    "kernelspec": {
      "name": "python3",
      "display_name": "Python 3"
    },
    "language_info": {
      "name": "python"
    }
  },
  "cells": [
    {
      "cell_type": "markdown",
      "metadata": {
        "id": "view-in-github",
        "colab_type": "text"
      },
      "source": [
        "<a href=\"https://colab.research.google.com/github/HackerJacky/TimeSeriesColab/blob/main/TS_HW3.ipynb\" target=\"_parent\"><img src=\"https://colab.research.google.com/assets/colab-badge.svg\" alt=\"Open In Colab\"/></a>"
      ]
    },
    {
      "cell_type": "markdown",
      "source": [
        "###時間序列第三次作業\n",
        "1. 使⽤yfinance套件下載S&P500(^gspc)，台灣0050ETF(0050.tw)，比特幣(btc-usd)，黃⾦近⽉期貨價格\n",
        "(gc=f)，美債三個⽉到期殖利率(^IRX)的歷史價格資料，樣本期間設定2021-01-01到2025-04-22\n",
        "2. 計算每個資產的序列報酬率（使⽤對數報酬率）的平均，標準差（波動率），偏態，前1%與後1%的分位數。\n",
        "3. 對上述序列報酬率進⾏平穩性檢定(ADF test)。\n",
        "4. 為每個資產分別估計AR(1),AR(2),AR(3),ARMA(1,1)模型並判斷哪個模型比較好。"
      ],
      "metadata": {
        "id": "-hCmLZVFU-xv"
      }
    },
    {
      "cell_type": "code",
      "execution_count": null,
      "metadata": {
        "id": "NfIrcQMQZn71"
      },
      "outputs": [],
      "source": [
        "import yfinance as yf\n",
        "import numpy as np\n",
        "import matplotlib.pyplot as plt\n",
        "from statsmodels.tsa.ar_model import AutoReg\n",
        "import statsmodels.tsa.stattools as ts\n",
        "from statsmodels.tsa.arima.model import ARIMA\n",
        "import pandas as pd\n",
        "from scipy.stats import skew\n",
        "from statsmodels.tsa.stattools import adfuller"
      ]
    },
    {
      "cell_type": "code",
      "source": [
        "# 1\n",
        "sp500_df  = yf.download('^GSPC',   start='2021-01-01', end='2025-04-22', threads=False)\n",
        "tw50_df   = yf.download('0050.TW', start='2021-01-01', end='2025-04-22', threads=False)\n",
        "btc_df    = yf.download('BTC-USD', start='2021-01-01', end='2025-04-22', threads=False)\n",
        "gold_df   = yf.download('GC=F',    start='2021-01-01', end='2025-04-22', threads=False)\n",
        "bonds_df  = yf.download('^IRX',    start='2021-01-01', end='2025-04-22', threads=False)\n",
        "\n",
        "# 2️計算報酬率\n",
        "sp500    = sp500_df['Close']\n",
        "tw50     = tw50_df['Close']\n",
        "btc      = btc_df['Close']\n",
        "gold     = gold_df['Close']\n",
        "bonds    = bonds_df['Close']\n",
        "\n",
        "ret_sp    = np.log(sp500    / sp500.shift(1)).dropna()\n",
        "ret_tw    = np.log(tw50     / tw50.shift(1)).dropna()\n",
        "ret_btc   = np.log(btc      / btc.shift(1)).dropna()\n",
        "ret_gold  = np.log(gold     / gold.shift(1)).dropna()\n",
        "ret_bonds = np.log(bonds    / bonds.shift(1)).dropna()\n",
        "\n",
        "#平均數\n",
        "print(\"S&P500\",ret_sp.mean())\n",
        "print(\"台灣0050ETF\",ret_tw.mean())\n",
        "print(\"比特幣\",ret_btc.mean())\n",
        "print(\"黃金\",ret_gold.mean())\n",
        "print(\"債券\",ret_bonds.mean())"
      ],
      "metadata": {
        "colab": {
          "base_uri": "https://localhost:8080/"
        },
        "id": "4WPMGbSIfANu",
        "outputId": "5a2b04cc-846c-4a5c-c387-d06d028f2361"
      },
      "execution_count": null,
      "outputs": [
        {
          "output_type": "stream",
          "name": "stderr",
          "text": [
            "[*********************100%***********************]  1 of 1 completed\n",
            "[*********************100%***********************]  1 of 1 completed\n",
            "[*********************100%***********************]  1 of 1 completed\n",
            "[*********************100%***********************]  1 of 1 completed\n",
            "[*********************100%***********************]  1 of 1 completed"
          ]
        },
        {
          "output_type": "stream",
          "name": "stdout",
          "text": [
            "S&P500 Ticker\n",
            "^GSPC    0.000308\n",
            "dtype: float64\n",
            "台灣0050ETF Ticker\n",
            "0050.TW    0.000356\n",
            "dtype: float64\n",
            "比特幣 Ticker\n",
            "BTC-USD    0.000695\n",
            "dtype: float64\n",
            "黃金 Ticker\n",
            "GC=F    0.000519\n",
            "dtype: float64\n",
            "債券 Ticker\n",
            "^IRX    0.003827\n",
            "dtype: float64\n"
          ]
        },
        {
          "output_type": "stream",
          "name": "stderr",
          "text": [
            "\n"
          ]
        }
      ]
    },
    {
      "cell_type": "code",
      "source": [
        "#2\n",
        "##標準差(波動率)\n",
        "print(\"S&P500\",ret_sp.std())\n",
        "print(\"台灣0050ETF\",ret_tw.std())\n",
        "print(\"比特幣\",ret_btc.std())\n",
        "print(\"黃金\",ret_gold.std())\n",
        "print(\"債券\",ret_bonds.std())"
      ],
      "metadata": {
        "colab": {
          "base_uri": "https://localhost:8080/"
        },
        "id": "PCVCkLl7Darm",
        "outputId": "a40142c1-a9c5-4f20-e8e4-2444be8e97d0"
      },
      "execution_count": null,
      "outputs": [
        {
          "output_type": "stream",
          "name": "stdout",
          "text": [
            "S&P500 Ticker\n",
            "^GSPC    0.011088\n",
            "dtype: float64\n",
            "台灣0050ETF Ticker\n",
            "0050.TW    0.013712\n",
            "dtype: float64\n",
            "比特幣 Ticker\n",
            "BTC-USD    0.032085\n",
            "dtype: float64\n",
            "黃金 Ticker\n",
            "GC=F    0.009422\n",
            "dtype: float64\n",
            "債券 Ticker\n",
            "^IRX    0.13235\n",
            "dtype: float64\n"
          ]
        }
      ]
    },
    {
      "cell_type": "code",
      "source": [
        "#2\n",
        "##偏態\n",
        "print(\"S&P500\",skew(ret_tw, bias=False))\n",
        "print(\"台灣0050ETF\",skew(ret_tw, bias=False))\n",
        "print(\"比特幣\",skew(ret_btc, bias=False))\n",
        "print(\"黃金\",skew(ret_gold, bias=False))\n",
        "print(\"債券\",skew(ret_bonds, bias=False))"
      ],
      "metadata": {
        "colab": {
          "base_uri": "https://localhost:8080/"
        },
        "id": "oA61gcU7Df-p",
        "outputId": "2ac3c089-56e1-4c70-9588-f474dc6dd8f4"
      },
      "execution_count": null,
      "outputs": [
        {
          "output_type": "stream",
          "name": "stdout",
          "text": [
            "S&P500 [-0.4635981]\n",
            "台灣0050ETF [-0.4635981]\n",
            "比特幣 [-0.12952661]\n",
            "黃金 [-0.35367128]\n",
            "債券 [0.65724945]\n"
          ]
        }
      ]
    },
    {
      "cell_type": "code",
      "source": [
        "#前後1%分位數\n",
        "print(f\"{'S&P500':<10} 前1%分位數: {ret_sp.quantile(0.01).iloc[0]:>8.4f} 後1%分位數: {ret_sp.quantile(0.99).iloc[0]:>8.4f}\")\n",
        "print(f\"{'台灣0050ETF':<10} 前1%分位數: {ret_tw.quantile(0.01).iloc[0]:>8.4f} 後1%分位數: {ret_tw.quantile(0.99).iloc[0]:>8.4f}\")\n",
        "print(f\"{'比特幣':<10} 前1%分位數: {ret_btc.quantile(0.01).iloc[0]:>8.4f} 後1%分位數: {ret_btc.quantile(0.99).iloc[0]:>8.4f}\")\n",
        "print(f\"{'黃金':<10} 前1%分位數: {ret_gold.quantile(0.01).iloc[0]:>8.4f} 後1%分位數: {ret_gold.quantile(0.99).iloc[0]:>8.4f}\")\n",
        "print(f\"{'債券':<10} 前1%分位數: {ret_bonds.quantile(0.01).iloc[0]:>8.4f} 後1%分位數: {ret_bonds.quantile(0.99).iloc[0]:>8.4f}\")\n",
        "\n"
      ],
      "metadata": {
        "colab": {
          "base_uri": "https://localhost:8080/"
        },
        "id": "GGQ_KqBRoHqz",
        "outputId": "1b0c10f6-56cd-4ccf-c58e-a31e8e6c1534"
      },
      "execution_count": null,
      "outputs": [
        {
          "output_type": "stream",
          "name": "stdout",
          "text": [
            "S&P500     前1%分位數:  -0.0309 後1%分位數:   0.0254\n",
            "台灣0050ETF  前1%分位數:  -0.0371 後1%分位數:   0.0352\n",
            "比特幣        前1%分位數:  -0.0910 後1%分位數:   0.0944\n",
            "黃金         前1%分位數:  -0.0259 後1%分位數:   0.0234\n",
            "債券         前1%分位數:  -0.5108 後1%分位數:   0.5031\n"
          ]
        }
      ]
    },
    {
      "cell_type": "code",
      "source": [
        "#3 ADF test\n",
        "res_SP = ts.adfuller(ret_sp,maxlag=1)\n",
        "res_TW = ts.adfuller(ret_tw,maxlag=1)\n",
        "res_BTC = ts.adfuller(ret_btc,maxlag=1)\n",
        "res_GOLD = ts.adfuller(ret_gold,1)\n",
        "res_BONDS = ts.adfuller(ret_bonds,1)\n",
        "\n",
        "def print_adf_result(name, result):\n",
        "    print(f\"=== ADF Test: {name} ===\")\n",
        "    print(f\"Test Statistic : {result[0]}\")\n",
        "    print(f\"P-Value        : {result[1]}\")\n",
        "    print(\"Critical Values:\")\n",
        "    for k, v in result[4].items():\n",
        "        print(f\"   {k}% : {v}\")\n",
        "    print(\"-\" * 30)\n",
        "\n",
        "# 印出各資產 ADF 結果\n",
        "print_adf_result(\"S&P500\", res_SP)\n",
        "print_adf_result(\"台灣0050\", res_TW)\n",
        "print_adf_result(\"比特幣\", res_BTC)\n",
        "print_adf_result(\"黃金\", res_GOLD)\n",
        "print_adf_result(\"債券\", res_BONDS)\n",
        "\n",
        "\n",
        "#因為所有產品的ADF檢定的P-value皆為0,由此可知這些資產的時間序列是平穩的"
      ],
      "metadata": {
        "id": "TffqcSBPp2zH",
        "colab": {
          "base_uri": "https://localhost:8080/"
        },
        "outputId": "e58ab51a-be38-42c1-a205-960a0e88e608"
      },
      "execution_count": null,
      "outputs": [
        {
          "output_type": "stream",
          "name": "stdout",
          "text": [
            "=== ADF Test: S&P500 ===\n",
            "Test Statistic : -33.34460294951164\n",
            "P-Value        : 0.0\n",
            "Critical Values:\n",
            "   1%% : -3.436436308605049\n",
            "   5%% : -2.8642273405849363\n",
            "   10%% : -2.568200833956216\n",
            "------------------------------\n",
            "=== ADF Test: 台灣0050 ===\n",
            "Test Statistic : -23.6476663151138\n",
            "P-Value        : 0.0\n",
            "Critical Values:\n",
            "   1%% : -3.4366839058058387\n",
            "   5%% : -2.8643365489845647\n",
            "   10%% : -2.5682589990431515\n",
            "------------------------------\n",
            "=== ADF Test: 比特幣 ===\n",
            "Test Statistic : -41.353815448486095\n",
            "P-Value        : 0.0\n",
            "Critical Values:\n",
            "   1%% : -3.4345219897741357\n",
            "   5%% : -2.8633826834772953\n",
            "   10%% : -2.5677510122114486\n",
            "------------------------------\n",
            "=== ADF Test: 黃金 ===\n",
            "Test Statistic : -33.2758722112258\n",
            "P-Value        : 0.0\n",
            "Critical Values:\n",
            "   1%% : -3.4364306491488814\n",
            "   5%% : -2.8642248442477976\n",
            "   10%% : -2.5681995044075987\n",
            "------------------------------\n",
            "=== ADF Test: 債券 ===\n",
            "Test Statistic : -28.391676183613157\n",
            "P-Value        : 0.0\n",
            "Critical Values:\n",
            "   1%% : -3.436441978605957\n",
            "   5%% : -2.864229841568573\n",
            "   10%% : -2.5682021659802934\n",
            "------------------------------\n"
          ]
        }
      ]
    },
    {
      "cell_type": "code",
      "source": [
        "#4\n",
        "##S&P500\n",
        "reg_sp_1=AutoReg(ret_sp,lags=1).fit()\n",
        "reg_sp_2=AutoReg(ret_sp,lags=2).fit()\n",
        "reg_sp_3=AutoReg(ret_sp,lags=3).fit()\n",
        "arma_ret_sp = ARIMA(ret_sp, order=(1, 0, 1)).fit()\n",
        "print(\"S&P500 AR(1)的AIC為\",reg_sp_1.aic,\"\\n\")\n",
        "print(\"S&P500 AR(2)的AIC為\",reg_sp_2.aic,\"\\n\")\n",
        "print(\"S&P500 AR(3)的AIC為\",reg_sp_3.aic,\"\\n\")\n",
        "print(\"S&P500 ARMA(1,1)的AIC為\",arma_ret_sp.aic)\n",
        "\n",
        "#因為ARMA(1,1)的AIC值最小,所以S&P500最適合的模型為ARMA(1,1)"
      ],
      "metadata": {
        "colab": {
          "base_uri": "https://localhost:8080/"
        },
        "id": "eRqGkDw7p38U",
        "outputId": "d0ace633-6db2-47dd-b9ed-f7ec9914ac79"
      },
      "execution_count": null,
      "outputs": [
        {
          "output_type": "stream",
          "name": "stderr",
          "text": [
            "/usr/local/lib/python3.11/dist-packages/statsmodels/tsa/base/tsa_model.py:473: ValueWarning: A date index has been provided, but it has no associated frequency information and so will be ignored when e.g. forecasting.\n",
            "  self._init_dates(dates, freq)\n",
            "/usr/local/lib/python3.11/dist-packages/statsmodels/tsa/base/tsa_model.py:473: ValueWarning: A date index has been provided, but it has no associated frequency information and so will be ignored when e.g. forecasting.\n",
            "  self._init_dates(dates, freq)\n",
            "/usr/local/lib/python3.11/dist-packages/statsmodels/tsa/base/tsa_model.py:473: ValueWarning: A date index has been provided, but it has no associated frequency information and so will be ignored when e.g. forecasting.\n",
            "  self._init_dates(dates, freq)\n",
            "/usr/local/lib/python3.11/dist-packages/statsmodels/tsa/base/tsa_model.py:473: ValueWarning: A date index has been provided, but it has no associated frequency information and so will be ignored when e.g. forecasting.\n",
            "  self._init_dates(dates, freq)\n",
            "/usr/local/lib/python3.11/dist-packages/statsmodels/tsa/base/tsa_model.py:473: ValueWarning: A date index has been provided, but it has no associated frequency information and so will be ignored when e.g. forecasting.\n",
            "  self._init_dates(dates, freq)\n",
            "/usr/local/lib/python3.11/dist-packages/statsmodels/tsa/base/tsa_model.py:473: ValueWarning: A date index has been provided, but it has no associated frequency information and so will be ignored when e.g. forecasting.\n",
            "  self._init_dates(dates, freq)\n",
            "/usr/local/lib/python3.11/dist-packages/statsmodels/tsa/statespace/sarimax.py:966: UserWarning: Non-stationary starting autoregressive parameters found. Using zeros as starting parameters.\n",
            "  warn('Non-stationary starting autoregressive parameters'\n",
            "/usr/local/lib/python3.11/dist-packages/statsmodels/tsa/statespace/sarimax.py:978: UserWarning: Non-invertible starting MA parameters found. Using zeros as starting parameters.\n",
            "  warn('Non-invertible starting MA parameters found.'\n"
          ]
        },
        {
          "output_type": "stream",
          "name": "stdout",
          "text": [
            "S&P500 AR(1)的AIC為 -6635.494434062705 \n",
            "\n",
            "S&P500 AR(2)的AIC為 -6626.695704420254 \n",
            "\n",
            "S&P500 AR(3)的AIC為 -6623.414588900174 \n",
            "\n",
            "S&P500 ARMA(1,1)的AIC為 -6639.906639926945\n"
          ]
        },
        {
          "output_type": "stream",
          "name": "stderr",
          "text": [
            "/usr/local/lib/python3.11/dist-packages/statsmodels/base/model.py:607: ConvergenceWarning: Maximum Likelihood optimization failed to converge. Check mle_retvals\n",
            "  warnings.warn(\"Maximum Likelihood optimization failed to \"\n"
          ]
        }
      ]
    },
    {
      "cell_type": "code",
      "source": [
        "#4\n",
        "##台灣0050\n",
        "reg_tw_1=AutoReg(ret_tw,lags=1).fit()\n",
        "reg_tw_2=AutoReg(ret_tw,lags=2).fit()\n",
        "reg_tw_3=AutoReg(ret_tw,lags=3).fit()\n",
        "arma_ret_tw=ARIMA(ret_tw,order=(1,0,1)).fit()\n",
        "print(\"台灣0050 AR(1)的AIC為\",reg_tw_1.aic,\"\\n\")\n",
        "print(\"台灣0050 AR(2)的AIC為\",reg_tw_2.aic,\"\\n\")\n",
        "print(\"台灣0050 AR(3)的AIC為\",reg_tw_3.aic,\"\\n\")\n",
        "print(\"台灣0050 ARMA(1,1)的AIC為\",arma_ret_tw.aic)\n",
        "\n",
        "#ARMA(1,1)的AIC值最小,由此可以判定台灣0050最適合的模型為ARMA(1,1)"
      ],
      "metadata": {
        "colab": {
          "base_uri": "https://localhost:8080/"
        },
        "id": "-Pgf-asNA9_n",
        "outputId": "ad02e4bc-90cc-4fca-cc97-4c031631e3ff"
      },
      "execution_count": null,
      "outputs": [
        {
          "output_type": "stream",
          "name": "stderr",
          "text": [
            "/usr/local/lib/python3.11/dist-packages/statsmodels/tsa/base/tsa_model.py:473: ValueWarning: A date index has been provided, but it has no associated frequency information and so will be ignored when e.g. forecasting.\n",
            "  self._init_dates(dates, freq)\n",
            "/usr/local/lib/python3.11/dist-packages/statsmodels/tsa/base/tsa_model.py:473: ValueWarning: A date index has been provided, but it has no associated frequency information and so will be ignored when e.g. forecasting.\n",
            "  self._init_dates(dates, freq)\n",
            "/usr/local/lib/python3.11/dist-packages/statsmodels/tsa/base/tsa_model.py:473: ValueWarning: A date index has been provided, but it has no associated frequency information and so will be ignored when e.g. forecasting.\n",
            "  self._init_dates(dates, freq)\n",
            "/usr/local/lib/python3.11/dist-packages/statsmodels/tsa/base/tsa_model.py:473: ValueWarning: A date index has been provided, but it has no associated frequency information and so will be ignored when e.g. forecasting.\n",
            "  self._init_dates(dates, freq)\n",
            "/usr/local/lib/python3.11/dist-packages/statsmodels/tsa/base/tsa_model.py:473: ValueWarning: A date index has been provided, but it has no associated frequency information and so will be ignored when e.g. forecasting.\n",
            "  self._init_dates(dates, freq)\n",
            "/usr/local/lib/python3.11/dist-packages/statsmodels/tsa/base/tsa_model.py:473: ValueWarning: A date index has been provided, but it has no associated frequency information and so will be ignored when e.g. forecasting.\n",
            "  self._init_dates(dates, freq)\n"
          ]
        },
        {
          "output_type": "stream",
          "name": "stdout",
          "text": [
            "台灣0050 AR(1)的AIC為 -5942.197251195329 \n",
            "\n",
            "台灣0050 AR(2)的AIC為 -5936.611136778509 \n",
            "\n",
            "台灣0050 AR(3)的AIC為 -5932.358551007776 \n",
            "\n",
            "台灣0050 ARMA(1,1)的AIC為 -5945.987875307001\n"
          ]
        }
      ]
    },
    {
      "cell_type": "code",
      "source": [
        "#4\n",
        "##比特幣\n",
        "reg_btc_1=AutoReg(ret_btc,lags=1).fit()\n",
        "reg_btc_2=AutoReg(ret_btc,lags=2).fit()\n",
        "reg_btc_3=AutoReg(ret_btc,lags=3).fit()\n",
        "arma_ret_btc=ARIMA(ret_btc,order=(1,0,1)).fit()\n",
        "print(\"比特幣 AR(1)的AIC為\",reg_btc_1.aic,\"\\n\")\n",
        "print(\"比特幣 AR(2)的AIC為\",reg_btc_2.aic,\"\\n\")\n",
        "print(\"比特幣 AR(3)的AIC為\",reg_btc_3.aic,\"\\n\")\n",
        "print(\"比特幣 ARMA(1,1)的AIC為\",arma_ret_btc.aic)\n",
        "\n",
        "#AR(1)的AIC值是全部模型中最小的,所以最適合比特幣的模型為AR(1)"
      ],
      "metadata": {
        "colab": {
          "base_uri": "https://localhost:8080/"
        },
        "id": "t5cxnMAHBKiV",
        "outputId": "ae64a7a7-73b1-4546-d6a0-e1f61ad7ed7e"
      },
      "execution_count": null,
      "outputs": [
        {
          "output_type": "stream",
          "name": "stderr",
          "text": [
            "/usr/local/lib/python3.11/dist-packages/statsmodels/tsa/base/tsa_model.py:473: ValueWarning: No frequency information was provided, so inferred frequency D will be used.\n",
            "  self._init_dates(dates, freq)\n",
            "/usr/local/lib/python3.11/dist-packages/statsmodels/tsa/base/tsa_model.py:473: ValueWarning: No frequency information was provided, so inferred frequency D will be used.\n",
            "  self._init_dates(dates, freq)\n",
            "/usr/local/lib/python3.11/dist-packages/statsmodels/tsa/base/tsa_model.py:473: ValueWarning: No frequency information was provided, so inferred frequency D will be used.\n",
            "  self._init_dates(dates, freq)\n",
            "/usr/local/lib/python3.11/dist-packages/statsmodels/tsa/base/tsa_model.py:473: ValueWarning: No frequency information was provided, so inferred frequency D will be used.\n",
            "  self._init_dates(dates, freq)\n",
            "/usr/local/lib/python3.11/dist-packages/statsmodels/tsa/base/tsa_model.py:473: ValueWarning: No frequency information was provided, so inferred frequency D will be used.\n",
            "  self._init_dates(dates, freq)\n",
            "/usr/local/lib/python3.11/dist-packages/statsmodels/tsa/base/tsa_model.py:473: ValueWarning: No frequency information was provided, so inferred frequency D will be used.\n",
            "  self._init_dates(dates, freq)\n"
          ]
        },
        {
          "output_type": "stream",
          "name": "stdout",
          "text": [
            "比特幣 AR(1)的AIC為 -6348.54545889707 \n",
            "\n",
            "比特幣 AR(2)的AIC為 -6343.104027611567 \n",
            "\n",
            "比特幣 AR(3)的AIC為 -6336.843001069743 \n",
            "\n",
            "比特幣 ARMA(1,1)的AIC為 -6344.846174052373\n"
          ]
        }
      ]
    },
    {
      "cell_type": "code",
      "source": [
        "#4\n",
        "##黃金\n",
        "reg_gold_1=AutoReg(ret_gold,lags=1).fit()\n",
        "reg_gold_2=AutoReg(ret_gold,lags=2).fit()\n",
        "reg_gold_3=AutoReg(ret_gold,lags=3).fit()\n",
        "arma_ret_gold=ARIMA(ret_gold,order=(1,0,1)).fit()\n",
        "print(\"黃金 AR(1)的AIC為\",reg_gold_1.aic,\"\\n\")\n",
        "print(\"黃金 AR(2)的AIC為\",reg_gold_2.aic,\"\\n\")\n",
        "print(\"黃金 AR(3)的AIC為\",reg_gold_3.aic,\"\\n\")\n",
        "print(\"黃金 ARMA(1,1)的AIC為\",arma_ret_gold.aic)\n",
        "#ARMA(1,1)的AIC值是全部模型中最小的,所以最適合黃金的模型為ARMA(1,1)"
      ],
      "metadata": {
        "colab": {
          "base_uri": "https://localhost:8080/"
        },
        "id": "-l8eREs9CqGI",
        "outputId": "d3d92c58-df4d-44f3-e128-b3215991af97"
      },
      "execution_count": null,
      "outputs": [
        {
          "output_type": "stream",
          "name": "stderr",
          "text": [
            "/usr/local/lib/python3.11/dist-packages/statsmodels/tsa/base/tsa_model.py:473: ValueWarning: A date index has been provided, but it has no associated frequency information and so will be ignored when e.g. forecasting.\n",
            "  self._init_dates(dates, freq)\n",
            "/usr/local/lib/python3.11/dist-packages/statsmodels/tsa/base/tsa_model.py:473: ValueWarning: A date index has been provided, but it has no associated frequency information and so will be ignored when e.g. forecasting.\n",
            "  self._init_dates(dates, freq)\n",
            "/usr/local/lib/python3.11/dist-packages/statsmodels/tsa/base/tsa_model.py:473: ValueWarning: A date index has been provided, but it has no associated frequency information and so will be ignored when e.g. forecasting.\n",
            "  self._init_dates(dates, freq)\n",
            "/usr/local/lib/python3.11/dist-packages/statsmodels/tsa/base/tsa_model.py:473: ValueWarning: A date index has been provided, but it has no associated frequency information and so will be ignored when e.g. forecasting.\n",
            "  self._init_dates(dates, freq)\n",
            "/usr/local/lib/python3.11/dist-packages/statsmodels/tsa/base/tsa_model.py:473: ValueWarning: A date index has been provided, but it has no associated frequency information and so will be ignored when e.g. forecasting.\n",
            "  self._init_dates(dates, freq)\n",
            "/usr/local/lib/python3.11/dist-packages/statsmodels/tsa/base/tsa_model.py:473: ValueWarning: A date index has been provided, but it has no associated frequency information and so will be ignored when e.g. forecasting.\n",
            "  self._init_dates(dates, freq)\n"
          ]
        },
        {
          "output_type": "stream",
          "name": "stdout",
          "text": [
            "黃金 AR(1)的AIC為 -6992.304937674618 \n",
            "\n",
            "黃金 AR(2)的AIC為 -6989.960358650014 \n",
            "\n",
            "黃金 AR(3)的AIC為 -6981.542324508431 \n",
            "\n",
            "黃金 ARMA(1,1)的AIC為 -6997.171226902295\n"
          ]
        }
      ]
    },
    {
      "cell_type": "code",
      "source": [
        "#4\n",
        "##債券\n",
        "reg_bonds_1=AutoReg(ret_bonds,lags=1).fit()\n",
        "reg_bonds_2=AutoReg(ret_bonds,lags=2).fit()\n",
        "reg_bonds_3=AutoReg(ret_bonds,lags=3).fit()\n",
        "arma_ret_bonds=ARIMA(ret_bonds,order=(1,0,1)).fit()\n",
        "print(\"債券 AR(1)的AIC為\",reg_bonds_1.aic,\"\\n\")\n",
        "print(\"債券 AR(2)的AIC為\",reg_bonds_2.aic,\"\\n\")\n",
        "print(\"債券 AR(3)的AIC為\",reg_bonds_3.aic,\"\\n\")\n",
        "print(\"債券 ARMA(1,1)的AIC為\",arma_ret_bonds.aic)\n",
        "\n",
        "#AR(3)的AIC值是全部模型中最小的,所以最適合債券的模型為AR(3)"
      ],
      "metadata": {
        "colab": {
          "base_uri": "https://localhost:8080/"
        },
        "id": "ZVOYwfzTC1hA",
        "outputId": "8b2c6201-f05b-4a8c-b49b-7c48279a6c81"
      },
      "execution_count": null,
      "outputs": [
        {
          "output_type": "stream",
          "name": "stderr",
          "text": [
            "/usr/local/lib/python3.11/dist-packages/statsmodels/tsa/base/tsa_model.py:473: ValueWarning: A date index has been provided, but it has no associated frequency information and so will be ignored when e.g. forecasting.\n",
            "  self._init_dates(dates, freq)\n",
            "/usr/local/lib/python3.11/dist-packages/statsmodels/tsa/base/tsa_model.py:473: ValueWarning: A date index has been provided, but it has no associated frequency information and so will be ignored when e.g. forecasting.\n",
            "  self._init_dates(dates, freq)\n",
            "/usr/local/lib/python3.11/dist-packages/statsmodels/tsa/base/tsa_model.py:473: ValueWarning: A date index has been provided, but it has no associated frequency information and so will be ignored when e.g. forecasting.\n",
            "  self._init_dates(dates, freq)\n",
            "/usr/local/lib/python3.11/dist-packages/statsmodels/tsa/base/tsa_model.py:473: ValueWarning: A date index has been provided, but it has no associated frequency information and so will be ignored when e.g. forecasting.\n",
            "  self._init_dates(dates, freq)\n",
            "/usr/local/lib/python3.11/dist-packages/statsmodels/tsa/base/tsa_model.py:473: ValueWarning: A date index has been provided, but it has no associated frequency information and so will be ignored when e.g. forecasting.\n",
            "  self._init_dates(dates, freq)\n",
            "/usr/local/lib/python3.11/dist-packages/statsmodels/tsa/base/tsa_model.py:473: ValueWarning: A date index has been provided, but it has no associated frequency information and so will be ignored when e.g. forecasting.\n",
            "  self._init_dates(dates, freq)\n"
          ]
        },
        {
          "output_type": "stream",
          "name": "stdout",
          "text": [
            "債券 AR(1)的AIC為 -1298.0737358495269 \n",
            "\n",
            "債券 AR(2)的AIC為 -1327.0418560818111 \n",
            "\n",
            "債券 AR(3)的AIC為 -1340.9221513473483 \n",
            "\n",
            "債券 ARMA(1,1)的AIC為 -1330.4005803246303\n"
          ]
        }
      ]
    }
  ]
}