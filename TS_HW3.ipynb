{
  "nbformat": 4,
  "nbformat_minor": 0,
  "metadata": {
    "colab": {
      "provenance": [],
      "authorship_tag": "ABX9TyMDSvTKt0FrhVv6ajfq+1Mz",
      "include_colab_link": true
    },
    "kernelspec": {
      "name": "python3",
      "display_name": "Python 3"
    },
    "language_info": {
      "name": "python"
    }
  },
  "cells": [
    {
      "cell_type": "markdown",
      "metadata": {
        "id": "view-in-github",
        "colab_type": "text"
      },
      "source": [
        "<a href=\"https://colab.research.google.com/github/HackerJacky/TimeSeriesColab/blob/main/TS_HW3.ipynb\" target=\"_parent\"><img src=\"https://colab.research.google.com/assets/colab-badge.svg\" alt=\"Open In Colab\"/></a>"
      ]
    },
    {
      "cell_type": "code",
      "execution_count": 44,
      "metadata": {
        "id": "NfIrcQMQZn71"
      },
      "outputs": [],
      "source": [
        "import yfinance as yf\n",
        "import numpy as np\n",
        "import matplotlib.pyplot as plt\n",
        "from statsmodels.tsa.ar_model import AutoReg\n",
        "import statsmodels.tsa.stattools as ts\n",
        "from statsmodels.tsa.arima.model import ARIMA\n",
        "import pandas as pd\n",
        "from scipy.stats import skew"
      ]
    },
    {
      "cell_type": "code",
      "source": [
        "#1\n",
        "sp500=yf.download('^gspc',start='2021-01-01',end='2025-04-22')\n",
        "TW_0050=yf.download('0050.TW',start='2021-01-01',end='2025-04-22')\n",
        "btc=yf.download('btc-usd',start='2021-01-01',end='2025-04-22')\n",
        "gold=yf.download('gc=f',start='2021-01-01',end='2025-04-22')\n",
        "bonds=yf.download('0050.TW',start='2021-01-01',end='2025-04-22')"
      ],
      "metadata": {
        "colab": {
          "base_uri": "https://localhost:8080/"
        },
        "id": "1bQO1w1FagLh",
        "outputId": "d44ee321-4837-410b-adf6-4692b5b5cce0"
      },
      "execution_count": 6,
      "outputs": [
        {
          "output_type": "stream",
          "name": "stdout",
          "text": [
            "YF.download() has changed argument auto_adjust default to True\n"
          ]
        },
        {
          "output_type": "stream",
          "name": "stderr",
          "text": [
            "[*********************100%***********************]  1 of 1 completed\n",
            "[*********************100%***********************]  1 of 1 completed\n",
            "[*********************100%***********************]  1 of 1 completed\n",
            "[*********************100%***********************]  1 of 1 completed\n",
            "[*********************100%***********************]  1 of 1 completed\n"
          ]
        }
      ]
    },
    {
      "cell_type": "code",
      "source": [
        "#2\n",
        "data_sp=sp500['Close']\n",
        "data_tw=TW_0050['Close']\n",
        "data_btc=btc['Close']\n",
        "data_gold=gold['Close']\n",
        "data_bonds=bonds['Close']\n",
        "ret_sp=data_sp.pct_change().dropna()\n",
        "ret_tw=data_tw.pct_change().dropna()\n",
        "ret_btc=data_btc.pct_change().dropna()\n",
        "ret_gold=data_gold.pct_change().dropna()\n",
        "ret_bonds=data_bonds.pct_change().dropna()\n",
        "#平均數\n",
        "print(\"S&P500\",ret_sp.mean())\n",
        "print(\"台灣0050ETF\",ret_tw.mean())\n",
        "print(\"比特幣\",ret_btc.mean())\n",
        "print(\"黃金\",ret_gold.mean())\n",
        "print(\"債券\",ret_bonds.mean())"
      ],
      "metadata": {
        "colab": {
          "base_uri": "https://localhost:8080/"
        },
        "id": "4WPMGbSIfANu",
        "outputId": "4fbd1b28-ad39-4a72-f420-c04e9621fd0f"
      },
      "execution_count": 41,
      "outputs": [
        {
          "output_type": "stream",
          "name": "stdout",
          "text": [
            "S&P500 Ticker\n",
            "^GSPC    0.00037\n",
            "dtype: float64\n",
            "台灣0050ETF Ticker\n",
            "0050.TW    0.00045\n",
            "dtype: float64\n",
            "比特幣 Ticker\n",
            "BTC-USD    0.001209\n",
            "dtype: float64\n",
            "黃金 Ticker\n",
            "GC=F    0.000564\n",
            "dtype: float64\n",
            "債券 Ticker\n",
            "0050.TW    0.00045\n",
            "dtype: float64\n"
          ]
        }
      ]
    },
    {
      "cell_type": "code",
      "source": [
        "#2\n",
        "##標準差\n",
        "print(\"S&P500\",ret_sp.std())\n",
        "print(\"台灣0050ETF\",ret_tw.std())\n",
        "print(\"比特幣\",ret_btc.std())\n",
        "print(\"黃金\",ret_gold.std())\n",
        "print(\"債券\",ret_bonds.std())"
      ],
      "metadata": {
        "colab": {
          "base_uri": "https://localhost:8080/"
        },
        "id": "PCVCkLl7Darm",
        "outputId": "14f3ecba-f302-4216-8f14-708057007fbe"
      },
      "execution_count": 42,
      "outputs": [
        {
          "output_type": "stream",
          "name": "stdout",
          "text": [
            "S&P500 Ticker\n",
            "^GSPC    0.011096\n",
            "dtype: float64\n",
            "台灣0050ETF Ticker\n",
            "0050.TW    0.013681\n",
            "dtype: float64\n",
            "比特幣 Ticker\n",
            "BTC-USD    0.032098\n",
            "dtype: float64\n",
            "黃金 Ticker\n",
            "GC=F    0.009413\n",
            "dtype: float64\n",
            "債券 Ticker\n",
            "0050.TW    0.013681\n",
            "dtype: float64\n"
          ]
        }
      ]
    },
    {
      "cell_type": "code",
      "source": [
        "#2\n",
        "##偏態\n",
        "print(skew(ret_tw, bias=False))\n",
        "print(skew(ret_sp, bias=False))\n",
        "print(skew(ret_btc, bias=False))\n",
        "print(skew(ret_gold, bias=False))\n",
        "print(skew(ret_bonds, bias=False))"
      ],
      "metadata": {
        "colab": {
          "base_uri": "https://localhost:8080/"
        },
        "id": "oA61gcU7Df-p",
        "outputId": "0cc439d1-28f5-4ba0-8b90-63c7120d5759"
      },
      "execution_count": 45,
      "outputs": [
        {
          "output_type": "stream",
          "name": "stdout",
          "text": [
            "[-0.24941512]\n",
            "[0.15849829]\n",
            "[0.12883259]\n",
            "[-0.30308367]\n",
            "[-0.24941512]\n"
          ]
        }
      ]
    },
    {
      "cell_type": "code",
      "source": [
        "#3 ADF test\n",
        "res_SP = ts.adfuller(ret_sp,1)\n",
        "res_TW = ts.adfuller(ret_tw,1)\n",
        "res_BTC = ts.adfuller(ret_btc,1)\n",
        "res_GOLD = ts.adfuller(ret_gold,1)\n",
        "res_BONDS = ts.adfuller(ret_bonds,1)"
      ],
      "metadata": {
        "id": "TffqcSBPp2zH"
      },
      "execution_count": 16,
      "outputs": []
    },
    {
      "cell_type": "code",
      "source": [
        "#4\n",
        "##S&P500\n",
        "reg_sp_1=AutoReg(ret_sp,lags=1).fit() #AR(1)\n",
        "reg_sp_2=AutoReg(ret_sp,lags=2).fit() #AR(2)\n",
        "reg_sp_3=AutoReg(ret_sp,lags=3).fit() #AR(3)\n",
        "arma_ret_sp = ARIMA(ret_sp, order=(1, 0, 1)).fit()"
      ],
      "metadata": {
        "colab": {
          "base_uri": "https://localhost:8080/"
        },
        "id": "eRqGkDw7p38U",
        "outputId": "dff91c7a-5c9b-4eef-cf66-4e39a29e7b40"
      },
      "execution_count": 36,
      "outputs": [
        {
          "output_type": "stream",
          "name": "stderr",
          "text": [
            "/usr/local/lib/python3.11/dist-packages/statsmodels/tsa/base/tsa_model.py:473: ValueWarning: A date index has been provided, but it has no associated frequency information and so will be ignored when e.g. forecasting.\n",
            "  self._init_dates(dates, freq)\n",
            "/usr/local/lib/python3.11/dist-packages/statsmodels/tsa/base/tsa_model.py:473: ValueWarning: A date index has been provided, but it has no associated frequency information and so will be ignored when e.g. forecasting.\n",
            "  self._init_dates(dates, freq)\n",
            "/usr/local/lib/python3.11/dist-packages/statsmodels/tsa/base/tsa_model.py:473: ValueWarning: A date index has been provided, but it has no associated frequency information and so will be ignored when e.g. forecasting.\n",
            "  self._init_dates(dates, freq)\n",
            "/usr/local/lib/python3.11/dist-packages/statsmodels/tsa/base/tsa_model.py:473: ValueWarning: A date index has been provided, but it has no associated frequency information and so will be ignored when e.g. forecasting.\n",
            "  self._init_dates(dates, freq)\n",
            "/usr/local/lib/python3.11/dist-packages/statsmodels/tsa/base/tsa_model.py:473: ValueWarning: A date index has been provided, but it has no associated frequency information and so will be ignored when e.g. forecasting.\n",
            "  self._init_dates(dates, freq)\n",
            "/usr/local/lib/python3.11/dist-packages/statsmodels/tsa/base/tsa_model.py:473: ValueWarning: A date index has been provided, but it has no associated frequency information and so will be ignored when e.g. forecasting.\n",
            "  self._init_dates(dates, freq)\n",
            "/usr/local/lib/python3.11/dist-packages/statsmodels/tsa/statespace/sarimax.py:966: UserWarning: Non-stationary starting autoregressive parameters found. Using zeros as starting parameters.\n",
            "  warn('Non-stationary starting autoregressive parameters'\n",
            "/usr/local/lib/python3.11/dist-packages/statsmodels/tsa/statespace/sarimax.py:978: UserWarning: Non-invertible starting MA parameters found. Using zeros as starting parameters.\n",
            "  warn('Non-invertible starting MA parameters found.'\n"
          ]
        }
      ]
    },
    {
      "cell_type": "code",
      "source": [
        "#4\n",
        "##台灣0050\n",
        "reg_tw_1=AutoReg(ret_tw,lags=1).fit()\n",
        "reg_tw_2=AutoReg(ret_tw,lags=2).fit()\n",
        "reg_tw_3=AutoReg(ret_tw,lags=3).fit()\n",
        "arma_ret_tw=ARIMA(ret_tw,order=(1,0,1)).fit()"
      ],
      "metadata": {
        "colab": {
          "base_uri": "https://localhost:8080/"
        },
        "id": "-Pgf-asNA9_n",
        "outputId": "e40e8663-c5f6-4a1b-8ef6-f4cd9b96548d"
      },
      "execution_count": 37,
      "outputs": [
        {
          "output_type": "stream",
          "name": "stderr",
          "text": [
            "/usr/local/lib/python3.11/dist-packages/statsmodels/tsa/base/tsa_model.py:473: ValueWarning: A date index has been provided, but it has no associated frequency information and so will be ignored when e.g. forecasting.\n",
            "  self._init_dates(dates, freq)\n",
            "/usr/local/lib/python3.11/dist-packages/statsmodels/tsa/base/tsa_model.py:473: ValueWarning: A date index has been provided, but it has no associated frequency information and so will be ignored when e.g. forecasting.\n",
            "  self._init_dates(dates, freq)\n",
            "/usr/local/lib/python3.11/dist-packages/statsmodels/tsa/base/tsa_model.py:473: ValueWarning: A date index has been provided, but it has no associated frequency information and so will be ignored when e.g. forecasting.\n",
            "  self._init_dates(dates, freq)\n",
            "/usr/local/lib/python3.11/dist-packages/statsmodels/tsa/base/tsa_model.py:473: ValueWarning: A date index has been provided, but it has no associated frequency information and so will be ignored when e.g. forecasting.\n",
            "  self._init_dates(dates, freq)\n",
            "/usr/local/lib/python3.11/dist-packages/statsmodels/tsa/base/tsa_model.py:473: ValueWarning: A date index has been provided, but it has no associated frequency information and so will be ignored when e.g. forecasting.\n",
            "  self._init_dates(dates, freq)\n",
            "/usr/local/lib/python3.11/dist-packages/statsmodels/tsa/base/tsa_model.py:473: ValueWarning: A date index has been provided, but it has no associated frequency information and so will be ignored when e.g. forecasting.\n",
            "  self._init_dates(dates, freq)\n"
          ]
        }
      ]
    },
    {
      "cell_type": "code",
      "source": [
        "#4\n",
        "##比特幣\n",
        "reg_btc_1=AutoReg(ret_btc,lags=1).fit()\n",
        "reg_btc_2=AutoReg(ret_btc,lags=2).fit()\n",
        "reg_btc_3=AutoReg(ret_btc,lags=3).fit()\n",
        "arma_ret_btc=ARIMA(ret_btc,order=(1,0,1)).fit()\n"
      ],
      "metadata": {
        "colab": {
          "base_uri": "https://localhost:8080/"
        },
        "id": "t5cxnMAHBKiV",
        "outputId": "d8c1fed6-3859-4660-f0e0-c644948cb99d"
      },
      "execution_count": 38,
      "outputs": [
        {
          "output_type": "stream",
          "name": "stderr",
          "text": [
            "/usr/local/lib/python3.11/dist-packages/statsmodels/tsa/base/tsa_model.py:473: ValueWarning: No frequency information was provided, so inferred frequency D will be used.\n",
            "  self._init_dates(dates, freq)\n",
            "/usr/local/lib/python3.11/dist-packages/statsmodels/tsa/base/tsa_model.py:473: ValueWarning: No frequency information was provided, so inferred frequency D will be used.\n",
            "  self._init_dates(dates, freq)\n",
            "/usr/local/lib/python3.11/dist-packages/statsmodels/tsa/base/tsa_model.py:473: ValueWarning: No frequency information was provided, so inferred frequency D will be used.\n",
            "  self._init_dates(dates, freq)\n",
            "/usr/local/lib/python3.11/dist-packages/statsmodels/tsa/base/tsa_model.py:473: ValueWarning: No frequency information was provided, so inferred frequency D will be used.\n",
            "  self._init_dates(dates, freq)\n",
            "/usr/local/lib/python3.11/dist-packages/statsmodels/tsa/base/tsa_model.py:473: ValueWarning: No frequency information was provided, so inferred frequency D will be used.\n",
            "  self._init_dates(dates, freq)\n",
            "/usr/local/lib/python3.11/dist-packages/statsmodels/tsa/base/tsa_model.py:473: ValueWarning: No frequency information was provided, so inferred frequency D will be used.\n",
            "  self._init_dates(dates, freq)\n"
          ]
        }
      ]
    },
    {
      "cell_type": "code",
      "source": [
        "#4\n",
        "##黃金\n",
        "reg_gold_1=AutoReg(ret_gold,lags=1).fit()\n",
        "reg_gold_2=AutoReg(ret_gold,lags=2).fit()\n",
        "reg_gold_3=AutoReg(ret_gold,lags=3).fit()\n",
        "arma_ret_gold=ARIMA(ret_gold,order=(1,0,1)).fit()"
      ],
      "metadata": {
        "colab": {
          "base_uri": "https://localhost:8080/"
        },
        "id": "-l8eREs9CqGI",
        "outputId": "16589f2f-3d70-4883-f111-14a6969368a5"
      },
      "execution_count": 39,
      "outputs": [
        {
          "output_type": "stream",
          "name": "stderr",
          "text": [
            "/usr/local/lib/python3.11/dist-packages/statsmodels/tsa/base/tsa_model.py:473: ValueWarning: A date index has been provided, but it has no associated frequency information and so will be ignored when e.g. forecasting.\n",
            "  self._init_dates(dates, freq)\n",
            "/usr/local/lib/python3.11/dist-packages/statsmodels/tsa/base/tsa_model.py:473: ValueWarning: A date index has been provided, but it has no associated frequency information and so will be ignored when e.g. forecasting.\n",
            "  self._init_dates(dates, freq)\n",
            "/usr/local/lib/python3.11/dist-packages/statsmodels/tsa/base/tsa_model.py:473: ValueWarning: A date index has been provided, but it has no associated frequency information and so will be ignored when e.g. forecasting.\n",
            "  self._init_dates(dates, freq)\n",
            "/usr/local/lib/python3.11/dist-packages/statsmodels/tsa/base/tsa_model.py:473: ValueWarning: A date index has been provided, but it has no associated frequency information and so will be ignored when e.g. forecasting.\n",
            "  self._init_dates(dates, freq)\n",
            "/usr/local/lib/python3.11/dist-packages/statsmodels/tsa/base/tsa_model.py:473: ValueWarning: A date index has been provided, but it has no associated frequency information and so will be ignored when e.g. forecasting.\n",
            "  self._init_dates(dates, freq)\n",
            "/usr/local/lib/python3.11/dist-packages/statsmodels/tsa/base/tsa_model.py:473: ValueWarning: A date index has been provided, but it has no associated frequency information and so will be ignored when e.g. forecasting.\n",
            "  self._init_dates(dates, freq)\n",
            "/usr/local/lib/python3.11/dist-packages/statsmodels/base/model.py:607: ConvergenceWarning: Maximum Likelihood optimization failed to converge. Check mle_retvals\n",
            "  warnings.warn(\"Maximum Likelihood optimization failed to \"\n"
          ]
        }
      ]
    },
    {
      "cell_type": "code",
      "source": [
        "#4\n",
        "##債券\n",
        "reg_bonds_1=AutoReg(ret_bonds,lags=1).fit()\n",
        "reg_bonds_2=AutoReg(ret_bonds,lags=2).fit()\n",
        "reg_bonds_3=AutoReg(ret_bonds,lags=3).fit()\n",
        "arma_ret_bonds=ARIMA(ret_bonds,order=(1,0,1)).fit()"
      ],
      "metadata": {
        "colab": {
          "base_uri": "https://localhost:8080/"
        },
        "id": "ZVOYwfzTC1hA",
        "outputId": "5c6d10e9-6e4f-4b8b-9511-2591b8cc9e6d"
      },
      "execution_count": 40,
      "outputs": [
        {
          "output_type": "stream",
          "name": "stderr",
          "text": [
            "/usr/local/lib/python3.11/dist-packages/statsmodels/tsa/base/tsa_model.py:473: ValueWarning: A date index has been provided, but it has no associated frequency information and so will be ignored when e.g. forecasting.\n",
            "  self._init_dates(dates, freq)\n",
            "/usr/local/lib/python3.11/dist-packages/statsmodels/tsa/base/tsa_model.py:473: ValueWarning: A date index has been provided, but it has no associated frequency information and so will be ignored when e.g. forecasting.\n",
            "  self._init_dates(dates, freq)\n",
            "/usr/local/lib/python3.11/dist-packages/statsmodels/tsa/base/tsa_model.py:473: ValueWarning: A date index has been provided, but it has no associated frequency information and so will be ignored when e.g. forecasting.\n",
            "  self._init_dates(dates, freq)\n",
            "/usr/local/lib/python3.11/dist-packages/statsmodels/tsa/base/tsa_model.py:473: ValueWarning: A date index has been provided, but it has no associated frequency information and so will be ignored when e.g. forecasting.\n",
            "  self._init_dates(dates, freq)\n",
            "/usr/local/lib/python3.11/dist-packages/statsmodels/tsa/base/tsa_model.py:473: ValueWarning: A date index has been provided, but it has no associated frequency information and so will be ignored when e.g. forecasting.\n",
            "  self._init_dates(dates, freq)\n",
            "/usr/local/lib/python3.11/dist-packages/statsmodels/tsa/base/tsa_model.py:473: ValueWarning: A date index has been provided, but it has no associated frequency information and so will be ignored when e.g. forecasting.\n",
            "  self._init_dates(dates, freq)\n"
          ]
        }
      ]
    }
  ]
}