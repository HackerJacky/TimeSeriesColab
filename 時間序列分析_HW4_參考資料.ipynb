{
  "cells": [
    {
      "cell_type": "markdown",
      "metadata": {
        "id": "view-in-github",
        "colab_type": "text"
      },
      "source": [
        "<a href=\"https://colab.research.google.com/github/HackerJacky/TimeSeriesColab/blob/main/%E6%99%82%E9%96%93%E5%BA%8F%E5%88%97%E5%88%86%E6%9E%90_HW4_%E5%8F%83%E8%80%83%E8%B3%87%E6%96%99.ipynb\" target=\"_parent\"><img src=\"https://colab.research.google.com/assets/colab-badge.svg\" alt=\"Open In Colab\"/></a>"
      ]
    },
    {
      "cell_type": "markdown",
      "source": [
        "好的，這是以實際處理資料的練習為主要題型的題組，著重於使用 S&P 500 指數月報酬建立 AR 模型並進行預測能力評估。\n",
        "\n",
        "**題組：S&P 500 指數月報酬之 AR 模型預測能力評估**\n",
        "\n",
        "**背景：**\n",
        "\n",
        "我們希望利用 2010 年至今的 S&P 500 指數月報酬資料，建立時間序列模型來預測未來的月報酬。我們將比較 AR(1) 和 AR(2) 這兩個模型，並使用 Diebold-Mariano (DM) 檢定來判斷哪個模型具有更好的預測能力。\n",
        "\n",
        "**資料：**\n",
        "\n",
        "我們使用 `yfinance` 套件下載 2010-01-01 至 2024-12-31 的 S&P 500 指數資料 (`^GSPC`)。\n",
        "\n",
        "**問題：**\n",
        "\n",
        "1.  **資料處理：**\n",
        "    * (a)  請撰寫 Python 程式碼，完成以下步驟：\n",
        "        * 下載 2010-01-01 至 2024-12-31 的 S&P 500 指數資料 (`^GSPC`)，僅保留調整後收盤價 (`Adj Close`)。\n",
        "        * 將資料轉換為月頻率，並計算月報酬率。\n",
        "        * 建立月報酬率的落後一期 (`ret_sp500_1`) 和落後二期 (`ret_sp500_2`)。\n",
        "        * 印出前 5 筆處理後的資料，並顯示資料的資訊 (`.info()`)。\n",
        "    * (b)  為什麼我們需要計算報酬率，而不是直接使用股價進行建模？\n",
        "\n",
        "2.  **模型建立與樣本劃分：**\n",
        "    * (a)  請撰寫 Python 程式碼，完成以下步驟：\n",
        "        * 使用前 80% 的資料建立 AR(1) 模型和 AR(2) 模型。\n",
        "        * 印出 AR(1) 模型和 AR(2) 模型的模型摘要 (`.summary()`)。\n",
        "    * (b)  解釋 AR(1) 模型和 AR(2) 模型的方程式。\n",
        "\n",
        "3.  **樣本外預測與績效衡量：**\n",
        "    * (a)  請撰寫 Python 程式碼，計算 AR(1) 模型和 AR(2) 模型在剩餘 20% 資料上的樣本外均方誤差 (MSE)。\n",
        "    * (b)  比較兩個模型的樣本外 MSE，哪個模型的預測能力較好？\n",
        "\n",
        "4.  **Diebold-Mariano 檢定：**\n",
        "    * (a)  請撰寫 Python 程式碼，對 AR(1) 和 AR(2) 模型的樣本外預測誤差進行 Diebold-Mariano 檢定。\n",
        "    * (b)  解釋 DM 檢定的結果（檢定統計量、P 值）。\n",
        "    * (c)  根據 DM 檢定的結果，我們對 AR(1) 和 AR(2) 模型的預測能力有什麼結論？\n",
        "\n",
        "**參考答案：**\n",
        "\n",
        "1.  **資料處理：**\n",
        "\n",
        "    * (a)  Python 程式碼："
      ],
      "metadata": {
        "id": "B7odh874dhdd"
      }
    },
    {
      "cell_type": "code",
      "source": [
        "import yfinance as yf\n",
        "import pandas as pd\n",
        "import numpy as np\n",
        "import statsmodels.api as sm\n",
        "\n",
        "# 下載資料\n",
        "data = yf.download('^GSPC', start='2010-01-01', end='2024-12-31')\n",
        "data = data[['Adj Close']]\n",
        "data.columns = ['price_sp500']\n",
        "data.index = pd.to_datetime(data.index)\n",
        "\n",
        "# 轉換為月頻率並計算月報酬率\n",
        "data_m = data.resample('M').last().copy()\n",
        "data_m['ret_sp500'] = np.log(data_m.price_sp500).diff()\n",
        "\n",
        "# 建立落後期\n",
        "data_m['ret_sp500_1'] = data_m.ret_sp500.shift(1)\n",
        "data_m['ret_sp500_2'] = data_m.ret_sp500.shift(2)\n",
        "\n",
        "# 印出前 5 筆資料和資料資訊\n",
        "print(data_m.head())\n",
        "print(data_m.info())"
      ],
      "outputs": [],
      "execution_count": null,
      "metadata": {
        "id": "gpVK_IMldhdg"
      }
    },
    {
      "cell_type": "markdown",
      "source": [
        "* (b)  我們需要計算報酬率，而不是直接使用股價進行建模，主要有以下原因：\n",
        "        * **平穩性 (Stationarity):** 報酬率通常比股價更接近平穩的時間序列。許多時間序列模型（如 AR 模型）都假設資料是平穩的。\n",
        "        * **相對性：** 報酬率表示的是價格變動的百分比，更能反映投資的收益或損失，具有相對性，方便比較不同資產之間的表現。\n",
        "        * **經濟意義：** 報酬率具有更直接的經濟意義，反映了投資的回報。\n",
        "\n",
        "2.  **模型建立與樣本劃分：**\n",
        "\n",
        "    * (a)  Python 程式碼："
      ],
      "metadata": {
        "id": "_X3Zibzmdhdh"
      }
    },
    {
      "cell_type": "code",
      "source": [
        "# 樣本劃分\n",
        "train_size = int(len(data_m) * 0.8)\n",
        "train_data = data_m.iloc[:train_size].copy()\n",
        "\n",
        "# 建立 AR(1) 模型\n",
        "y_ar1 = train_data['ret_sp500'].dropna()\n",
        "x_ar1 = sm.add_constant(train_data['ret_sp500_1'].dropna())\n",
        "x_ar1 = x_ar1.loc[y_ar1.index]  # 確保索引一致\n",
        "model_ar1 = sm.OLS(y_ar1, x_ar1).fit()\n",
        "print(\"AR(1) Model Summary:\")\n",
        "print(model_ar1.summary())\n",
        "\n",
        "# 建立 AR(2) 模型\n",
        "y_ar2 = train_data['ret_sp500'].dropna()\n",
        "x_ar2 = sm.add_constant(train_data[['ret_sp500_1', 'ret_sp500_2']].dropna())\n",
        "x_ar2 = x_ar2.loc[y_ar2.index]  # 確保索引一致\n",
        "model_ar2 = sm.OLS(y_ar2, x_ar2).fit()\n",
        "print(\"\\nAR(2) Model Summary:\")\n",
        "print(model_ar2.summary())"
      ],
      "outputs": [],
      "execution_count": null,
      "metadata": {
        "id": "dpxvmJg8dhdh"
      }
    },
    {
      "cell_type": "markdown",
      "source": [
        "* (b)  AR(1) 模型方程式：\n",
        "        \n",
        "        ```\n",
        "        ret_t = \\phi_0 + \\phi_1 * ret_{t-1} + \\epsilon_t\n",
        "        ```\n",
        "        \n",
        "        其中 \\(ret_t\\) 是當期報酬率，\\(ret_{t-1}\\) 是前一期報酬率，\\(\\phi_0\\) 是常數項，\\(\\phi_1\\) 是係數，\\(\\epsilon_t\\) 是誤差項。\n",
        "        \n",
        "        AR(2) 模型方程式：\n",
        "        \n",
        "        ```\n",
        "        ret_t = \\phi_0 + \\phi_1 * ret_{t-1} + \\phi_2 * ret_{t-2} + \\epsilon_t\n",
        "        ```\n",
        "        \n",
        "        其中 \\(ret_t\\) 是當期報酬率，\\(ret_{t-1}\\) 是前一期報酬率，\\(ret_{t-2}\\) 是前兩期報酬率，\\(\\phi_0\\) 是常數項，\\(\\phi_1\\) 和 \\(\\phi_2\\) 是係數，\\(\\epsilon_t\\) 是誤差項。\n",
        "\n",
        "3.  **樣本外預測與績效衡量：**\n",
        "\n",
        "    * (a)  Python 程式碼："
      ],
      "metadata": {
        "id": "_G_16hVidhdi"
      }
    },
    {
      "cell_type": "code",
      "source": [
        "# 樣本外預測\n",
        "test_data = data_m.iloc[train_size:].copy()\n",
        "\n",
        "# AR(1) 樣本外預測\n",
        "ar1_forecasts = model_ar1.params['const'] + model_ar1.params['ret_sp500_1'] * test_data['ret_sp500_1'].dropna()\n",
        "ar1_errors = test_data['ret_sp500'].dropna() - ar1_forecasts.loc[test_data['ret_sp500'].dropna().index]\n",
        "mse_ar1 = np.mean(ar1_errors**2)\n",
        "print(f\"AR(1) Out-of-Sample MSE: {mse_ar1}\")\n",
        "\n",
        "# AR(2) 樣本外預測\n",
        "ar2_forecasts = model_ar2.params['const'] + model_ar2.params['ret_sp500_1'] * test_data['ret_sp500_1'].dropna() + model_ar2.params['ret_sp500_2'] * test_data['ret_sp500_2'].dropna()\n",
        "ar2_errors = test_data['ret_sp500'].dropna() - ar2_forecasts.loc[test_data['ret_sp500'].dropna().index]\n",
        "mse_ar2 = np.mean(ar2_errors**2)\n",
        "print(f\"AR(2) Out-of-Sample MSE: {mse_ar2}\")"
      ],
      "outputs": [],
      "execution_count": null,
      "metadata": {
        "id": "7NMNqbe2dhdi"
      }
    },
    {
      "cell_type": "markdown",
      "source": [
        "* (b)  比較 `mse_ar1` 和 `mse_ar2` 的值。MSE 較小的模型預測能力較好。\n",
        "\n",
        "4.  **Diebold-Mariano 檢定：**\n",
        "\n",
        "    * (a)  Python 程式碼："
      ],
      "metadata": {
        "id": "g37VHYmWdhdi"
      }
    },
    {
      "cell_type": "code",
      "source": [
        "# Diebold-Mariano 檢定\n",
        "loss_diff = ar1_errors**2 - ar2_errors**2\n",
        "dm_test = sm.OLS(loss_diff, np.ones(len(loss_diff)), missing='drop').fit(cov_type='HAC', cov_kwds={'maxlags': 2})\n",
        "print(\"\\nDiebold-Mariano Test Result:\")\n",
        "print(dm_test.summary())"
      ],
      "outputs": [],
      "execution_count": null,
      "metadata": {
        "id": "z3PkEb32dhdj"
      }
    },
    {
      "cell_type": "markdown",
      "source": [
        "* (b)  解釋 `dm_test.summary()` 的結果：\n",
        "        * `coef`：損失差異的平均值。\n",
        "        * `P>|z|`：P 值，用於判斷是否拒絕原假設。\n",
        "        * 其他統計量（如 z-statistic）用於判斷顯著性。\n",
        "    * (c)  根據 DM 檢定的 P 值判斷。若 P 值小於顯著水準（例如 0.05），則拒絕原假設，認為兩個模型的預測能力有顯著差異；否則，不拒絕原假設，認為兩個模型的預測能力沒有顯著差異。結合 MSE 的結果，可以得出最終結論。\n",
        "\n",
        "這個題組提供了一個完整的實作練習，涵蓋了資料處理、模型建立、預測能力評估和統計檢定。這將幫助學習者更深入地理解時間序列分析和模型評估的實際應用。"
      ],
      "metadata": {
        "id": "4InDLoxodhdj"
      }
    }
  ],
  "metadata": {
    "colab": {
      "provenance": [],
      "include_colab_link": true
    },
    "kernelspec": {
      "display_name": "Python 3",
      "name": "python3"
    }
  },
  "nbformat": 4,
  "nbformat_minor": 0
}